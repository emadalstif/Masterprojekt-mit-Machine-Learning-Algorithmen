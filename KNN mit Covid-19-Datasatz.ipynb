{
 "cells": [
  {
   "cell_type": "code",
   "execution_count": 25,
   "metadata": {},
   "outputs": [],
   "source": [
    "import matplotlib.pyplot as plt\n",
    "import seaborn as sns\n",
    "import matplotlib.patches as mpatches\n",
    "import time\n",
    "import pandas as pd\n",
    "import numpy as np\n",
    "# Classifier Libraries\n",
    "from sklearn.neighbors import KNeighborsClassifier\n",
    "import collections\n",
    "#Resampling-Methode\n",
    "from imblearn.under_sampling import RandomUnderSampler, NearMiss\n",
    "from imblearn.over_sampling import RandomOverSampler, SMOTE\n",
    "# Other Libraries\n",
    "from sklearn.model_selection import train_test_split\n",
    "from sklearn.pipeline import make_pipeline\n",
    "from imblearn.pipeline import make_pipeline as imbalanced_make_pipeline\n",
    "from imblearn.over_sampling import SMOTE\n",
    "from imblearn.under_sampling import NearMiss\n",
    "from imblearn.metrics import classification_report_imbalanced\n",
    "from sklearn.metrics import precision_score, recall_score, f1_score, roc_auc_score, accuracy_score, classification_report,roc_curve\n",
    "from sklearn.preprocessing import StandardScaler\n",
    "from sklearn.metrics import classification_report\n",
    "from sklearn.metrics import accuracy_score\n",
    "from sklearn.metrics import recall_score as rs\n",
    "from sklearn.metrics import precision_score as ps\n",
    "from sklearn.metrics import confusion_matrix\n",
    "from sklearn.metrics import confusion_matrix as cm\n",
    "from sklearn.metrics import f1_score as fs\n",
    "from collections import Counter\n",
    "from sklearn.model_selection import GridSearchCV\n",
    "from sklearn import preprocessing\n",
    "from sklearn.preprocessing import MinMaxScaler\n",
    "from sklearn.preprocessing import normalize\n",
    "from sklearn import metrics\n",
    "from sklearn.model_selection import KFold, StratifiedKFold\n",
    "import warnings\n",
    "warnings.filterwarnings(\"ignore\")"
   ]
  },
  {
   "cell_type": "markdown",
   "metadata": {},
   "source": [
    "# Datensätzen einlesen"
   ]
  },
  {
   "cell_type": "code",
   "execution_count": 26,
   "metadata": {},
   "outputs": [],
   "source": [
    "df =pd.read_csv(r'C:\\Tensorflow Object Detection\\TFODCourse\\covid 19\\dev_dec_jan.csv')"
   ]
  },
  {
   "cell_type": "code",
   "execution_count": 27,
   "metadata": {},
   "outputs": [
    {
     "data": {
      "text/html": [
       "<div>\n",
       "<style scoped>\n",
       "    .dataframe tbody tr th:only-of-type {\n",
       "        vertical-align: middle;\n",
       "    }\n",
       "\n",
       "    .dataframe tbody tr th {\n",
       "        vertical-align: top;\n",
       "    }\n",
       "\n",
       "    .dataframe thead th {\n",
       "        text-align: right;\n",
       "    }\n",
       "</style>\n",
       "<table border=\"1\" class=\"dataframe\">\n",
       "  <thead>\n",
       "    <tr style=\"text-align: right;\">\n",
       "      <th></th>\n",
       "      <th>state</th>\n",
       "      <th>county</th>\n",
       "      <th>age_group</th>\n",
       "      <th>gender</th>\n",
       "      <th>date</th>\n",
       "      <th>cases</th>\n",
       "      <th>deaths</th>\n",
       "      <th>recovered</th>\n",
       "      <th>density_county</th>\n",
       "      <th>density_state</th>\n",
       "      <th>geschlecht_org</th>\n",
       "      <th>datum</th>\n",
       "    </tr>\n",
       "  </thead>\n",
       "  <tbody>\n",
       "    <tr>\n",
       "      <th>0</th>\n",
       "      <td>Baden-Wuerttemberg</td>\n",
       "      <td>LK Alb-Donau-Kreis</td>\n",
       "      <td>2</td>\n",
       "      <td>F</td>\n",
       "      <td>2020-11-15</td>\n",
       "      <td>1</td>\n",
       "      <td>0</td>\n",
       "      <td>1</td>\n",
       "      <td>1358</td>\n",
       "      <td>311</td>\n",
       "      <td>0</td>\n",
       "      <td>1605398400</td>\n",
       "    </tr>\n",
       "    <tr>\n",
       "      <th>1</th>\n",
       "      <td>Baden-Wuerttemberg</td>\n",
       "      <td>LK Alb-Donau-Kreis</td>\n",
       "      <td>2</td>\n",
       "      <td>F</td>\n",
       "      <td>2020-11-17</td>\n",
       "      <td>1</td>\n",
       "      <td>0</td>\n",
       "      <td>1</td>\n",
       "      <td>1358</td>\n",
       "      <td>311</td>\n",
       "      <td>0</td>\n",
       "      <td>1605571200</td>\n",
       "    </tr>\n",
       "    <tr>\n",
       "      <th>2</th>\n",
       "      <td>Baden-Wuerttemberg</td>\n",
       "      <td>LK Alb-Donau-Kreis</td>\n",
       "      <td>2</td>\n",
       "      <td>F</td>\n",
       "      <td>2020-11-18</td>\n",
       "      <td>1</td>\n",
       "      <td>0</td>\n",
       "      <td>1</td>\n",
       "      <td>1358</td>\n",
       "      <td>311</td>\n",
       "      <td>0</td>\n",
       "      <td>1605657600</td>\n",
       "    </tr>\n",
       "    <tr>\n",
       "      <th>3</th>\n",
       "      <td>Baden-Wuerttemberg</td>\n",
       "      <td>LK Alb-Donau-Kreis</td>\n",
       "      <td>2</td>\n",
       "      <td>F</td>\n",
       "      <td>2020-11-19</td>\n",
       "      <td>1</td>\n",
       "      <td>0</td>\n",
       "      <td>1</td>\n",
       "      <td>1358</td>\n",
       "      <td>311</td>\n",
       "      <td>0</td>\n",
       "      <td>1605744000</td>\n",
       "    </tr>\n",
       "    <tr>\n",
       "      <th>4</th>\n",
       "      <td>Baden-Wuerttemberg</td>\n",
       "      <td>LK Alb-Donau-Kreis</td>\n",
       "      <td>2</td>\n",
       "      <td>F</td>\n",
       "      <td>2020-11-25</td>\n",
       "      <td>1</td>\n",
       "      <td>0</td>\n",
       "      <td>1</td>\n",
       "      <td>1358</td>\n",
       "      <td>311</td>\n",
       "      <td>0</td>\n",
       "      <td>1606262400</td>\n",
       "    </tr>\n",
       "    <tr>\n",
       "      <th>...</th>\n",
       "      <td>...</td>\n",
       "      <td>...</td>\n",
       "      <td>...</td>\n",
       "      <td>...</td>\n",
       "      <td>...</td>\n",
       "      <td>...</td>\n",
       "      <td>...</td>\n",
       "      <td>...</td>\n",
       "      <td>...</td>\n",
       "      <td>...</td>\n",
       "      <td>...</td>\n",
       "      <td>...</td>\n",
       "    </tr>\n",
       "    <tr>\n",
       "      <th>1539620</th>\n",
       "      <td>Thueringen</td>\n",
       "      <td>SK Weimar</td>\n",
       "      <td>90</td>\n",
       "      <td>M</td>\n",
       "      <td>2021-02-03</td>\n",
       "      <td>3</td>\n",
       "      <td>0</td>\n",
       "      <td>1</td>\n",
       "      <td>772</td>\n",
       "      <td>132</td>\n",
       "      <td>1</td>\n",
       "      <td>1612310400</td>\n",
       "    </tr>\n",
       "    <tr>\n",
       "      <th>1539621</th>\n",
       "      <td>Thueringen</td>\n",
       "      <td>SK Weimar</td>\n",
       "      <td>90</td>\n",
       "      <td>M</td>\n",
       "      <td>2021-02-03</td>\n",
       "      <td>3</td>\n",
       "      <td>0</td>\n",
       "      <td>1</td>\n",
       "      <td>772</td>\n",
       "      <td>132</td>\n",
       "      <td>1</td>\n",
       "      <td>1612310400</td>\n",
       "    </tr>\n",
       "    <tr>\n",
       "      <th>1539622</th>\n",
       "      <td>Thueringen</td>\n",
       "      <td>SK Weimar</td>\n",
       "      <td>90</td>\n",
       "      <td>M</td>\n",
       "      <td>2021-02-05</td>\n",
       "      <td>1</td>\n",
       "      <td>0</td>\n",
       "      <td>1</td>\n",
       "      <td>772</td>\n",
       "      <td>132</td>\n",
       "      <td>1</td>\n",
       "      <td>1612483200</td>\n",
       "    </tr>\n",
       "    <tr>\n",
       "      <th>1539623</th>\n",
       "      <td>Thueringen</td>\n",
       "      <td>SK Weimar</td>\n",
       "      <td>90</td>\n",
       "      <td>M</td>\n",
       "      <td>2021-02-11</td>\n",
       "      <td>1</td>\n",
       "      <td>0</td>\n",
       "      <td>1</td>\n",
       "      <td>772</td>\n",
       "      <td>132</td>\n",
       "      <td>1</td>\n",
       "      <td>1613001600</td>\n",
       "    </tr>\n",
       "    <tr>\n",
       "      <th>1539624</th>\n",
       "      <td>Thueringen</td>\n",
       "      <td>SK Weimar</td>\n",
       "      <td>90</td>\n",
       "      <td>M</td>\n",
       "      <td>2021-02-12</td>\n",
       "      <td>1</td>\n",
       "      <td>0</td>\n",
       "      <td>1</td>\n",
       "      <td>772</td>\n",
       "      <td>132</td>\n",
       "      <td>1</td>\n",
       "      <td>1613088000</td>\n",
       "    </tr>\n",
       "  </tbody>\n",
       "</table>\n",
       "<p>1539625 rows × 12 columns</p>\n",
       "</div>"
      ],
      "text/plain": [
       "                      state              county  age_group gender        date  \\\n",
       "0        Baden-Wuerttemberg  LK Alb-Donau-Kreis          2      F  2020-11-15   \n",
       "1        Baden-Wuerttemberg  LK Alb-Donau-Kreis          2      F  2020-11-17   \n",
       "2        Baden-Wuerttemberg  LK Alb-Donau-Kreis          2      F  2020-11-18   \n",
       "3        Baden-Wuerttemberg  LK Alb-Donau-Kreis          2      F  2020-11-19   \n",
       "4        Baden-Wuerttemberg  LK Alb-Donau-Kreis          2      F  2020-11-25   \n",
       "...                     ...                 ...        ...    ...         ...   \n",
       "1539620          Thueringen           SK Weimar         90      M  2021-02-03   \n",
       "1539621          Thueringen           SK Weimar         90      M  2021-02-03   \n",
       "1539622          Thueringen           SK Weimar         90      M  2021-02-05   \n",
       "1539623          Thueringen           SK Weimar         90      M  2021-02-11   \n",
       "1539624          Thueringen           SK Weimar         90      M  2021-02-12   \n",
       "\n",
       "         cases  deaths  recovered  density_county  density_state  \\\n",
       "0            1       0          1            1358            311   \n",
       "1            1       0          1            1358            311   \n",
       "2            1       0          1            1358            311   \n",
       "3            1       0          1            1358            311   \n",
       "4            1       0          1            1358            311   \n",
       "...        ...     ...        ...             ...            ...   \n",
       "1539620      3       0          1             772            132   \n",
       "1539621      3       0          1             772            132   \n",
       "1539622      1       0          1             772            132   \n",
       "1539623      1       0          1             772            132   \n",
       "1539624      1       0          1             772            132   \n",
       "\n",
       "         geschlecht_org       datum  \n",
       "0                     0  1605398400  \n",
       "1                     0  1605571200  \n",
       "2                     0  1605657600  \n",
       "3                     0  1605744000  \n",
       "4                     0  1606262400  \n",
       "...                 ...         ...  \n",
       "1539620               1  1612310400  \n",
       "1539621               1  1612310400  \n",
       "1539622               1  1612483200  \n",
       "1539623               1  1613001600  \n",
       "1539624               1  1613088000  \n",
       "\n",
       "[1539625 rows x 12 columns]"
      ]
     },
     "execution_count": 27,
     "metadata": {},
     "output_type": "execute_result"
    }
   ],
   "source": [
    "df"
   ]
  },
  {
   "cell_type": "code",
   "execution_count": 103,
   "metadata": {},
   "outputs": [
    {
     "data": {
      "image/png": "[encoded data removed]",
      "text/plain": [
       "<Figure size 1152x648 with 1 Axes>"
      ]
     },
     "metadata": {
      "needs_background": "light"
     },
     "output_type": "display_data"
    }
   ],
   "source": [
    "df_cases = df.groupby(['date']).sum().reset_index()\n",
    "fig, ax = plt.subplots(figsize=(16,9))\n",
    "ax.plot(df_cases[\"date\"],\n",
    "        df_cases[\"cases\"],\n",
    "        color=\"g\");\n",
    "ax.plot(df_cases[\"date\"],\n",
    "        df_cases[\"recovered\"],\n",
    "        color=\"b\");\n",
    "ax.plot(df_cases[\"date\"],\n",
    "        df_cases[\"deaths\"],\n",
    "        color=\"r\");\n",
    "ax.set_title(\"Anzahl der TodesFälle / Genesene Fälle / Fälle in DE pro Tag\");\n",
    "ax.spines[\"top\"].set_visible(False);\n",
    "ax.spines[\"right\"].set_visible(False);"
   ]
  },
  {
   "cell_type": "code",
   "execution_count": 104,
   "metadata": {},
   "outputs": [
    {
     "data": {
      "image/png": "[encoded data removed]",
      "text/plain": [
       "<Figure size 1080x504 with 1 Axes>"
      ]
     },
     "metadata": {
      "needs_background": "light"
     },
     "output_type": "display_data"
    }
   ],
   "source": [
    "import matplotlib.dates as md\n",
    "df['date'] = pd.to_datetime(df['date'], format = '%Y-%m-%d')\n",
    "# prepare the figure\n",
    "fig, ax = plt.subplots(figsize = (15, 7))\n",
    "\n",
    "# set up the plot\n",
    "sns.lineplot(ax = ax, x='date', y='deaths', data=df).set_title('Anzahl der TodesFälle in DE')\n",
    "\n",
    "# specify the position of the major ticks at the beginning of the week\n",
    "ax.xaxis.set_major_locator(md.WeekdayLocator(byweekday = 1))\n",
    "# specify the format of the labels as 'year-month-day'\n",
    "ax.xaxis.set_major_formatter(md.DateFormatter('%Y-%m-%d'))\n",
    "# (optional) rotate by 90° the labels in order to improve their spacing\n",
    "plt.setp(ax.xaxis.get_majorticklabels(), rotation = 90)\n",
    "\n",
    "# specify the position of the minor ticks at each day\n",
    "ax.xaxis.set_minor_locator(md.DayLocator(interval = 1))\n",
    "\n",
    "# set ticks length\n",
    "ax.tick_params(axis = 'x', which = 'major', length = 2)\n",
    "ax.tick_params(axis = 'x', which = 'minor', length = 5)\n",
    "\n",
    "# set axes labels\n",
    "plt.xlabel('Date')\n",
    "plt.ylabel('Deaths')\n",
    "\n",
    "# show the plot\n",
    "plt.show()"
   ]
  },
  {
   "cell_type": "markdown",
   "metadata": {},
   "source": [
    "# Anzahl der Todesfälle in DE zwischen 15-11-2020 und 15-2-2021"
   ]
  },
  {
   "cell_type": "code",
   "execution_count": 105,
   "metadata": {},
   "outputs": [
    {
     "data": {
      "image/png": "[encoded data removed]",
      "text/plain": [
       "<Figure size 1152x648 with 1 Axes>"
      ]
     },
     "metadata": {
      "needs_background": "light"
     },
     "output_type": "display_data"
    }
   ],
   "source": [
    "df_cases = df.groupby(['date']).sum().reset_index()\n",
    "fig, ax = plt.subplots(figsize=(16,9))\n",
    "# ax.plot(df_cases[\"date\"],\n",
    "#         df_cases[\"cases\"],\n",
    "#         color=\"g\");\n",
    "# ax.plot(df_cases[\"date\"],\n",
    "#         df_cases[\"recovered\"],\n",
    "#         color=\"b\");\n",
    "ax.plot(df_cases[\"date\"],\n",
    "        df_cases[\"deaths\"],\n",
    "        color=\"r\");\n",
    "ax.set_title(\"Anzahl der Todesfälle in DE\");\n",
    "ax.spines[\"top\"].set_visible(False);\n",
    "ax.spines[\"right\"].set_visible(False);"
   ]
  },
  {
   "cell_type": "code",
   "execution_count": 106,
   "metadata": {},
   "outputs": [
    {
     "data": {
      "text/html": [
       "<div>\n",
       "<style scoped>\n",
       "    .dataframe tbody tr th:only-of-type {\n",
       "        vertical-align: middle;\n",
       "    }\n",
       "\n",
       "    .dataframe tbody tr th {\n",
       "        vertical-align: top;\n",
       "    }\n",
       "\n",
       "    .dataframe thead th {\n",
       "        text-align: right;\n",
       "    }\n",
       "</style>\n",
       "<table border=\"1\" class=\"dataframe\">\n",
       "  <thead>\n",
       "    <tr style=\"text-align: right;\">\n",
       "      <th></th>\n",
       "      <th>state</th>\n",
       "      <th>county</th>\n",
       "      <th>age_group</th>\n",
       "      <th>gender</th>\n",
       "      <th>date</th>\n",
       "      <th>cases</th>\n",
       "      <th>deaths</th>\n",
       "      <th>recovered</th>\n",
       "      <th>density_county</th>\n",
       "      <th>density_state</th>\n",
       "      <th>geschlecht_org</th>\n",
       "      <th>datum</th>\n",
       "    </tr>\n",
       "  </thead>\n",
       "  <tbody>\n",
       "    <tr>\n",
       "      <th>0</th>\n",
       "      <td>Baden-Wuerttemberg</td>\n",
       "      <td>LK Alb-Donau-Kreis</td>\n",
       "      <td>2</td>\n",
       "      <td>F</td>\n",
       "      <td>2020-11-15</td>\n",
       "      <td>1</td>\n",
       "      <td>0</td>\n",
       "      <td>1</td>\n",
       "      <td>1358</td>\n",
       "      <td>311</td>\n",
       "      <td>0</td>\n",
       "      <td>1605398400</td>\n",
       "    </tr>\n",
       "    <tr>\n",
       "      <th>1</th>\n",
       "      <td>Baden-Wuerttemberg</td>\n",
       "      <td>LK Alb-Donau-Kreis</td>\n",
       "      <td>2</td>\n",
       "      <td>F</td>\n",
       "      <td>2020-11-17</td>\n",
       "      <td>1</td>\n",
       "      <td>0</td>\n",
       "      <td>1</td>\n",
       "      <td>1358</td>\n",
       "      <td>311</td>\n",
       "      <td>0</td>\n",
       "      <td>1605571200</td>\n",
       "    </tr>\n",
       "    <tr>\n",
       "      <th>2</th>\n",
       "      <td>Baden-Wuerttemberg</td>\n",
       "      <td>LK Alb-Donau-Kreis</td>\n",
       "      <td>2</td>\n",
       "      <td>F</td>\n",
       "      <td>2020-11-18</td>\n",
       "      <td>1</td>\n",
       "      <td>0</td>\n",
       "      <td>1</td>\n",
       "      <td>1358</td>\n",
       "      <td>311</td>\n",
       "      <td>0</td>\n",
       "      <td>1605657600</td>\n",
       "    </tr>\n",
       "    <tr>\n",
       "      <th>3</th>\n",
       "      <td>Baden-Wuerttemberg</td>\n",
       "      <td>LK Alb-Donau-Kreis</td>\n",
       "      <td>2</td>\n",
       "      <td>F</td>\n",
       "      <td>2020-11-19</td>\n",
       "      <td>1</td>\n",
       "      <td>0</td>\n",
       "      <td>1</td>\n",
       "      <td>1358</td>\n",
       "      <td>311</td>\n",
       "      <td>0</td>\n",
       "      <td>1605744000</td>\n",
       "    </tr>\n",
       "    <tr>\n",
       "      <th>4</th>\n",
       "      <td>Baden-Wuerttemberg</td>\n",
       "      <td>LK Alb-Donau-Kreis</td>\n",
       "      <td>2</td>\n",
       "      <td>F</td>\n",
       "      <td>2020-11-25</td>\n",
       "      <td>1</td>\n",
       "      <td>0</td>\n",
       "      <td>1</td>\n",
       "      <td>1358</td>\n",
       "      <td>311</td>\n",
       "      <td>0</td>\n",
       "      <td>1606262400</td>\n",
       "    </tr>\n",
       "    <tr>\n",
       "      <th>...</th>\n",
       "      <td>...</td>\n",
       "      <td>...</td>\n",
       "      <td>...</td>\n",
       "      <td>...</td>\n",
       "      <td>...</td>\n",
       "      <td>...</td>\n",
       "      <td>...</td>\n",
       "      <td>...</td>\n",
       "      <td>...</td>\n",
       "      <td>...</td>\n",
       "      <td>...</td>\n",
       "      <td>...</td>\n",
       "    </tr>\n",
       "    <tr>\n",
       "      <th>1539620</th>\n",
       "      <td>Thueringen</td>\n",
       "      <td>SK Weimar</td>\n",
       "      <td>90</td>\n",
       "      <td>M</td>\n",
       "      <td>2021-02-03</td>\n",
       "      <td>3</td>\n",
       "      <td>0</td>\n",
       "      <td>1</td>\n",
       "      <td>772</td>\n",
       "      <td>132</td>\n",
       "      <td>1</td>\n",
       "      <td>1612310400</td>\n",
       "    </tr>\n",
       "    <tr>\n",
       "      <th>1539621</th>\n",
       "      <td>Thueringen</td>\n",
       "      <td>SK Weimar</td>\n",
       "      <td>90</td>\n",
       "      <td>M</td>\n",
       "      <td>2021-02-03</td>\n",
       "      <td>3</td>\n",
       "      <td>0</td>\n",
       "      <td>1</td>\n",
       "      <td>772</td>\n",
       "      <td>132</td>\n",
       "      <td>1</td>\n",
       "      <td>1612310400</td>\n",
       "    </tr>\n",
       "    <tr>\n",
       "      <th>1539622</th>\n",
       "      <td>Thueringen</td>\n",
       "      <td>SK Weimar</td>\n",
       "      <td>90</td>\n",
       "      <td>M</td>\n",
       "      <td>2021-02-05</td>\n",
       "      <td>1</td>\n",
       "      <td>0</td>\n",
       "      <td>1</td>\n",
       "      <td>772</td>\n",
       "      <td>132</td>\n",
       "      <td>1</td>\n",
       "      <td>1612483200</td>\n",
       "    </tr>\n",
       "    <tr>\n",
       "      <th>1539623</th>\n",
       "      <td>Thueringen</td>\n",
       "      <td>SK Weimar</td>\n",
       "      <td>90</td>\n",
       "      <td>M</td>\n",
       "      <td>2021-02-11</td>\n",
       "      <td>1</td>\n",
       "      <td>0</td>\n",
       "      <td>1</td>\n",
       "      <td>772</td>\n",
       "      <td>132</td>\n",
       "      <td>1</td>\n",
       "      <td>1613001600</td>\n",
       "    </tr>\n",
       "    <tr>\n",
       "      <th>1539624</th>\n",
       "      <td>Thueringen</td>\n",
       "      <td>SK Weimar</td>\n",
       "      <td>90</td>\n",
       "      <td>M</td>\n",
       "      <td>2021-02-12</td>\n",
       "      <td>1</td>\n",
       "      <td>0</td>\n",
       "      <td>1</td>\n",
       "      <td>772</td>\n",
       "      <td>132</td>\n",
       "      <td>1</td>\n",
       "      <td>1613088000</td>\n",
       "    </tr>\n",
       "  </tbody>\n",
       "</table>\n",
       "<p>1539625 rows × 12 columns</p>\n",
       "</div>"
      ],
      "text/plain": [
       "                      state              county  age_group gender       date  \\\n",
       "0        Baden-Wuerttemberg  LK Alb-Donau-Kreis          2      F 2020-11-15   \n",
       "1        Baden-Wuerttemberg  LK Alb-Donau-Kreis          2      F 2020-11-17   \n",
       "2        Baden-Wuerttemberg  LK Alb-Donau-Kreis          2      F 2020-11-18   \n",
       "3        Baden-Wuerttemberg  LK Alb-Donau-Kreis          2      F 2020-11-19   \n",
       "4        Baden-Wuerttemberg  LK Alb-Donau-Kreis          2      F 2020-11-25   \n",
       "...                     ...                 ...        ...    ...        ...   \n",
       "1539620          Thueringen           SK Weimar         90      M 2021-02-03   \n",
       "1539621          Thueringen           SK Weimar         90      M 2021-02-03   \n",
       "1539622          Thueringen           SK Weimar         90      M 2021-02-05   \n",
       "1539623          Thueringen           SK Weimar         90      M 2021-02-11   \n",
       "1539624          Thueringen           SK Weimar         90      M 2021-02-12   \n",
       "\n",
       "         cases  deaths  recovered  density_county  density_state  \\\n",
       "0            1       0          1            1358            311   \n",
       "1            1       0          1            1358            311   \n",
       "2            1       0          1            1358            311   \n",
       "3            1       0          1            1358            311   \n",
       "4            1       0          1            1358            311   \n",
       "...        ...     ...        ...             ...            ...   \n",
       "1539620      3       0          1             772            132   \n",
       "1539621      3       0          1             772            132   \n",
       "1539622      1       0          1             772            132   \n",
       "1539623      1       0          1             772            132   \n",
       "1539624      1       0          1             772            132   \n",
       "\n",
       "         geschlecht_org       datum  \n",
       "0                     0  1605398400  \n",
       "1                     0  1605571200  \n",
       "2                     0  1605657600  \n",
       "3                     0  1605744000  \n",
       "4                     0  1606262400  \n",
       "...                 ...         ...  \n",
       "1539620               1  1612310400  \n",
       "1539621               1  1612310400  \n",
       "1539622               1  1612483200  \n",
       "1539623               1  1613001600  \n",
       "1539624               1  1613088000  \n",
       "\n",
       "[1539625 rows x 12 columns]"
      ]
     },
     "execution_count": 106,
     "metadata": {},
     "output_type": "execute_result"
    }
   ],
   "source": [
    "df"
   ]
  },
  {
   "cell_type": "code",
   "execution_count": 107,
   "metadata": {},
   "outputs": [
    {
     "data": {
      "text/plain": [
       "<AxesSubplot:title={'center':'deaths'}>"
      ]
     },
     "execution_count": 107,
     "metadata": {},
     "output_type": "execute_result"
    },
    {
     "data": {
      "image/png": "[encoded data removed]",
      "text/plain": [
       "<Figure size 432x288 with 1 Axes>"
      ]
     },
     "metadata": {
      "needs_background": "light"
     },
     "output_type": "display_data"
    }
   ],
   "source": [
    "df[\"deaths\"].value_counts().plot.bar(title='deaths')"
   ]
  },
  {
   "cell_type": "code",
   "execution_count": 108,
   "metadata": {},
   "outputs": [
    {
     "data": {
      "text/plain": [
       "<AxesSubplot:title={'center':'gender'}>"
      ]
     },
     "execution_count": 108,
     "metadata": {},
     "output_type": "execute_result"
    },
    {
     "data": {
      "image/png": "[encoded data removed]",
      "text/plain": [
       "<Figure size 432x288 with 1 Axes>"
      ]
     },
     "metadata": {
      "needs_background": "light"
     },
     "output_type": "display_data"
    }
   ],
   "source": [
    "REASON_count= df[\"gender\"].value_counts().rename_axis('gender').reset_index(name='Total Count')\n",
    "df[\"gender\"].value_counts().plot.bar(title='gender')"
   ]
  },
  {
   "cell_type": "code",
   "execution_count": 109,
   "metadata": {},
   "outputs": [
    {
     "data": {
      "text/plain": [
       "<AxesSubplot:title={'center':'age_group'}>"
      ]
     },
     "execution_count": 109,
     "metadata": {},
     "output_type": "execute_result"
    },
    {
     "data": {
      "image/png": "[encoded data removed]",
      "text/plain": [
       "<Figure size 432x288 with 1 Axes>"
      ]
     },
     "metadata": {
      "needs_background": "light"
     },
     "output_type": "display_data"
    }
   ],
   "source": [
    "REASON_count= df[\"age_group\"].value_counts().rename_axis('gender').reset_index(name='Total Count')\n",
    "df[\"age_group\"].value_counts().plot.bar(title='age_group')"
   ]
  },
  {
   "cell_type": "markdown",
   "metadata": {},
   "source": [
    "# Todesfälle nach Altergruppen in DE zwischen 15-11-2020 und 15-2-2021"
   ]
  },
  {
   "cell_type": "code",
   "execution_count": 110,
   "metadata": {},
   "outputs": [
    {
     "data": {
      "text/plain": [
       "<AxesSubplot:title={'center':'TodesFälle nach Altergruppen in DE'}, xlabel='age_group', ylabel='Todesfälle'>"
      ]
     },
     "execution_count": 110,
     "metadata": {},
     "output_type": "execute_result"
    },
    {
     "data": {
      "image/png": "[encoded data removed]",
      "text/plain": [
       "<Figure size 1440x720 with 1 Axes>"
      ]
     },
     "metadata": {
      "needs_background": "light"
     },
     "output_type": "display_data"
    }
   ],
   "source": [
    "import matplotlib.pyplot as plt\n",
    "age_group =df.groupby(['age_group']).sum()\n",
    "deaths_age_group=age_group['deaths']\n",
    "fig=plt.figure(figsize=[20,10])\n",
    "ax=fig.add_subplot(4,1,1)\n",
    "ax.set_ylabel('Todesfälle')\n",
    "ax.set_title('Todesfälle nach Altergruppen in DE')\n",
    "deaths_age_group.plot(kind='bar',color='red')"
   ]
  },
  {
   "cell_type": "code",
   "execution_count": 111,
   "metadata": {},
   "outputs": [
    {
     "data": {
      "text/html": [
       "<div>\n",
       "<style scoped>\n",
       "    .dataframe tbody tr th:only-of-type {\n",
       "        vertical-align: middle;\n",
       "    }\n",
       "\n",
       "    .dataframe tbody tr th {\n",
       "        vertical-align: top;\n",
       "    }\n",
       "\n",
       "    .dataframe thead th {\n",
       "        text-align: right;\n",
       "    }\n",
       "</style>\n",
       "<table border=\"1\" class=\"dataframe\">\n",
       "  <thead>\n",
       "    <tr style=\"text-align: right;\">\n",
       "      <th></th>\n",
       "      <th>age_group</th>\n",
       "      <th>cases</th>\n",
       "      <th>deaths</th>\n",
       "      <th>recovered</th>\n",
       "      <th>density_county</th>\n",
       "      <th>density_state</th>\n",
       "      <th>geschlecht_org</th>\n",
       "      <th>datum</th>\n",
       "      <th>death_percentage</th>\n",
       "    </tr>\n",
       "  </thead>\n",
       "  <tbody>\n",
       "    <tr>\n",
       "      <th>0</th>\n",
       "      <td>2</td>\n",
       "      <td>55223</td>\n",
       "      <td>4</td>\n",
       "      <td>26695</td>\n",
       "      <td>28301168</td>\n",
       "      <td>13932896</td>\n",
       "      <td>13710</td>\n",
       "      <td>42956257996800</td>\n",
       "      <td>0.0</td>\n",
       "    </tr>\n",
       "    <tr>\n",
       "      <th>1</th>\n",
       "      <td>9</td>\n",
       "      <td>380245</td>\n",
       "      <td>3</td>\n",
       "      <td>83262</td>\n",
       "      <td>92200249</td>\n",
       "      <td>44698429</td>\n",
       "      <td>43550</td>\n",
       "      <td>133930913788800</td>\n",
       "      <td>0.0</td>\n",
       "    </tr>\n",
       "    <tr>\n",
       "      <th>2</th>\n",
       "      <td>24</td>\n",
       "      <td>6566504</td>\n",
       "      <td>55</td>\n",
       "      <td>411117</td>\n",
       "      <td>484534493</td>\n",
       "      <td>227525066</td>\n",
       "      <td>198309</td>\n",
       "      <td>661483489737600</td>\n",
       "      <td>0.0</td>\n",
       "    </tr>\n",
       "    <tr>\n",
       "      <th>3</th>\n",
       "      <td>47</td>\n",
       "      <td>12300314</td>\n",
       "      <td>1644</td>\n",
       "      <td>578880</td>\n",
       "      <td>600376847</td>\n",
       "      <td>296222362</td>\n",
       "      <td>265827</td>\n",
       "      <td>933964271596800</td>\n",
       "      <td>0.0</td>\n",
       "    </tr>\n",
       "    <tr>\n",
       "      <th>4</th>\n",
       "      <td>70</td>\n",
       "      <td>2396216</td>\n",
       "      <td>14840</td>\n",
       "      <td>235545</td>\n",
       "      <td>242916937</td>\n",
       "      <td>123333769</td>\n",
       "      <td>122442</td>\n",
       "      <td>402860588947200</td>\n",
       "      <td>0.6</td>\n",
       "    </tr>\n",
       "    <tr>\n",
       "      <th>5</th>\n",
       "      <td>90</td>\n",
       "      <td>2090260</td>\n",
       "      <td>40577</td>\n",
       "      <td>147003</td>\n",
       "      <td>179640177</td>\n",
       "      <td>90934983</td>\n",
       "      <td>60363</td>\n",
       "      <td>301824364060800</td>\n",
       "      <td>1.9</td>\n",
       "    </tr>\n",
       "  </tbody>\n",
       "</table>\n",
       "</div>"
      ],
      "text/plain": [
       "   age_group     cases  deaths  recovered  density_county  density_state  \\\n",
       "0          2     55223       4      26695        28301168       13932896   \n",
       "1          9    380245       3      83262        92200249       44698429   \n",
       "2         24   6566504      55     411117       484534493      227525066   \n",
       "3         47  12300314    1644     578880       600376847      296222362   \n",
       "4         70   2396216   14840     235545       242916937      123333769   \n",
       "5         90   2090260   40577     147003       179640177       90934983   \n",
       "\n",
       "   geschlecht_org            datum  death_percentage  \n",
       "0           13710   42956257996800               0.0  \n",
       "1           43550  133930913788800               0.0  \n",
       "2          198309  661483489737600               0.0  \n",
       "3          265827  933964271596800               0.0  \n",
       "4          122442  402860588947200               0.6  \n",
       "5           60363  301824364060800               1.9  "
      ]
     },
     "execution_count": 111,
     "metadata": {},
     "output_type": "execute_result"
    }
   ],
   "source": [
    "cov_age = df.groupby(['age_group']).sum().reset_index()\n",
    "cov_age[\"death_percentage\"] = round(cov_age[\"deaths\"]/cov_age[\"cases\"]* 100,1)\n",
    "cov_age"
   ]
  },
  {
   "cell_type": "code",
   "execution_count": 112,
   "metadata": {},
   "outputs": [
    {
     "data": {
      "text/plain": [
       "<AxesSubplot:title={'center':'age_group vs deaths / recovered'}, xlabel='age_group'>"
      ]
     },
     "execution_count": 112,
     "metadata": {},
     "output_type": "execute_result"
    },
    {
     "data": {
      "image/png": "[encoded data removed]",
      "text/plain": [
       "<Figure size 288x288 with 1 Axes>"
      ]
     },
     "metadata": {
      "needs_background": "light"
     },
     "output_type": "display_data"
    }
   ],
   "source": [
    "gender=pd.crosstab(df['age_group'],df['recovered'])\n",
    "gender.div(gender.sum(1).astype(float), axis=0).plot(kind=\"bar\", stacked=True, title='age_group vs deaths / recovered', figsize=(4,4))"
   ]
  },
  {
   "cell_type": "code",
   "execution_count": 113,
   "metadata": {},
   "outputs": [
    {
     "data": {
      "text/html": [
       "<div>\n",
       "<style scoped>\n",
       "    .dataframe tbody tr th:only-of-type {\n",
       "        vertical-align: middle;\n",
       "    }\n",
       "\n",
       "    .dataframe tbody tr th {\n",
       "        vertical-align: top;\n",
       "    }\n",
       "\n",
       "    .dataframe thead th {\n",
       "        text-align: right;\n",
       "    }\n",
       "</style>\n",
       "<table border=\"1\" class=\"dataframe\">\n",
       "  <thead>\n",
       "    <tr style=\"text-align: right;\">\n",
       "      <th></th>\n",
       "      <th>state</th>\n",
       "      <th>county</th>\n",
       "      <th>age_group</th>\n",
       "      <th>gender</th>\n",
       "      <th>date</th>\n",
       "      <th>cases</th>\n",
       "      <th>deaths</th>\n",
       "      <th>recovered</th>\n",
       "      <th>density_county</th>\n",
       "      <th>density_state</th>\n",
       "      <th>geschlecht_org</th>\n",
       "      <th>datum</th>\n",
       "    </tr>\n",
       "  </thead>\n",
       "  <tbody>\n",
       "    <tr>\n",
       "      <th>0</th>\n",
       "      <td>Baden-Wuerttemberg</td>\n",
       "      <td>LK Alb-Donau-Kreis</td>\n",
       "      <td>2</td>\n",
       "      <td>F</td>\n",
       "      <td>2020-11-15</td>\n",
       "      <td>1</td>\n",
       "      <td>0</td>\n",
       "      <td>1</td>\n",
       "      <td>1358</td>\n",
       "      <td>311</td>\n",
       "      <td>0</td>\n",
       "      <td>1605398400</td>\n",
       "    </tr>\n",
       "  </tbody>\n",
       "</table>\n",
       "</div>"
      ],
      "text/plain": [
       "                state              county  age_group gender       date  cases  \\\n",
       "0  Baden-Wuerttemberg  LK Alb-Donau-Kreis          2      F 2020-11-15      1   \n",
       "\n",
       "   deaths  recovered  density_county  density_state  geschlecht_org  \\\n",
       "0       0          1            1358            311               0   \n",
       "\n",
       "        datum  \n",
       "0  1605398400  "
      ]
     },
     "execution_count": 113,
     "metadata": {},
     "output_type": "execute_result"
    }
   ],
   "source": [
    "df.head(1)"
   ]
  },
  {
   "cell_type": "code",
   "execution_count": 114,
   "metadata": {},
   "outputs": [
    {
     "data": {
      "text/html": [
       "<div>\n",
       "<style scoped>\n",
       "    .dataframe tbody tr th:only-of-type {\n",
       "        vertical-align: middle;\n",
       "    }\n",
       "\n",
       "    .dataframe tbody tr th {\n",
       "        vertical-align: top;\n",
       "    }\n",
       "\n",
       "    .dataframe thead th {\n",
       "        text-align: right;\n",
       "    }\n",
       "</style>\n",
       "<table border=\"1\" class=\"dataframe\">\n",
       "  <thead>\n",
       "    <tr style=\"text-align: right;\">\n",
       "      <th></th>\n",
       "      <th>state</th>\n",
       "      <th>county</th>\n",
       "      <th>age_group</th>\n",
       "      <th>gender</th>\n",
       "      <th>date</th>\n",
       "      <th>cases</th>\n",
       "      <th>deaths</th>\n",
       "      <th>recovered</th>\n",
       "      <th>density_county</th>\n",
       "      <th>density_state</th>\n",
       "      <th>geschlecht_org</th>\n",
       "      <th>datum</th>\n",
       "    </tr>\n",
       "  </thead>\n",
       "  <tbody>\n",
       "    <tr>\n",
       "      <th>0</th>\n",
       "      <td>Baden-Wuerttemberg</td>\n",
       "      <td>LK Alb-Donau-Kreis</td>\n",
       "      <td>2</td>\n",
       "      <td>F</td>\n",
       "      <td>2020-11-15</td>\n",
       "      <td>1</td>\n",
       "      <td>0</td>\n",
       "      <td>1</td>\n",
       "      <td>1358</td>\n",
       "      <td>311</td>\n",
       "      <td>0</td>\n",
       "      <td>1605398400</td>\n",
       "    </tr>\n",
       "    <tr>\n",
       "      <th>1</th>\n",
       "      <td>Baden-Wuerttemberg</td>\n",
       "      <td>LK Alb-Donau-Kreis</td>\n",
       "      <td>2</td>\n",
       "      <td>F</td>\n",
       "      <td>2020-11-17</td>\n",
       "      <td>1</td>\n",
       "      <td>0</td>\n",
       "      <td>1</td>\n",
       "      <td>1358</td>\n",
       "      <td>311</td>\n",
       "      <td>0</td>\n",
       "      <td>1605571200</td>\n",
       "    </tr>\n",
       "    <tr>\n",
       "      <th>2</th>\n",
       "      <td>Baden-Wuerttemberg</td>\n",
       "      <td>LK Alb-Donau-Kreis</td>\n",
       "      <td>2</td>\n",
       "      <td>F</td>\n",
       "      <td>2020-11-18</td>\n",
       "      <td>1</td>\n",
       "      <td>0</td>\n",
       "      <td>1</td>\n",
       "      <td>1358</td>\n",
       "      <td>311</td>\n",
       "      <td>0</td>\n",
       "      <td>1605657600</td>\n",
       "    </tr>\n",
       "    <tr>\n",
       "      <th>3</th>\n",
       "      <td>Baden-Wuerttemberg</td>\n",
       "      <td>LK Alb-Donau-Kreis</td>\n",
       "      <td>2</td>\n",
       "      <td>F</td>\n",
       "      <td>2020-11-19</td>\n",
       "      <td>1</td>\n",
       "      <td>0</td>\n",
       "      <td>1</td>\n",
       "      <td>1358</td>\n",
       "      <td>311</td>\n",
       "      <td>0</td>\n",
       "      <td>1605744000</td>\n",
       "    </tr>\n",
       "    <tr>\n",
       "      <th>4</th>\n",
       "      <td>Baden-Wuerttemberg</td>\n",
       "      <td>LK Alb-Donau-Kreis</td>\n",
       "      <td>2</td>\n",
       "      <td>F</td>\n",
       "      <td>2020-11-25</td>\n",
       "      <td>1</td>\n",
       "      <td>0</td>\n",
       "      <td>1</td>\n",
       "      <td>1358</td>\n",
       "      <td>311</td>\n",
       "      <td>0</td>\n",
       "      <td>1606262400</td>\n",
       "    </tr>\n",
       "    <tr>\n",
       "      <th>...</th>\n",
       "      <td>...</td>\n",
       "      <td>...</td>\n",
       "      <td>...</td>\n",
       "      <td>...</td>\n",
       "      <td>...</td>\n",
       "      <td>...</td>\n",
       "      <td>...</td>\n",
       "      <td>...</td>\n",
       "      <td>...</td>\n",
       "      <td>...</td>\n",
       "      <td>...</td>\n",
       "      <td>...</td>\n",
       "    </tr>\n",
       "    <tr>\n",
       "      <th>1539620</th>\n",
       "      <td>Thueringen</td>\n",
       "      <td>SK Weimar</td>\n",
       "      <td>90</td>\n",
       "      <td>M</td>\n",
       "      <td>2021-02-03</td>\n",
       "      <td>3</td>\n",
       "      <td>0</td>\n",
       "      <td>1</td>\n",
       "      <td>772</td>\n",
       "      <td>132</td>\n",
       "      <td>1</td>\n",
       "      <td>1612310400</td>\n",
       "    </tr>\n",
       "    <tr>\n",
       "      <th>1539621</th>\n",
       "      <td>Thueringen</td>\n",
       "      <td>SK Weimar</td>\n",
       "      <td>90</td>\n",
       "      <td>M</td>\n",
       "      <td>2021-02-03</td>\n",
       "      <td>3</td>\n",
       "      <td>0</td>\n",
       "      <td>1</td>\n",
       "      <td>772</td>\n",
       "      <td>132</td>\n",
       "      <td>1</td>\n",
       "      <td>1612310400</td>\n",
       "    </tr>\n",
       "    <tr>\n",
       "      <th>1539622</th>\n",
       "      <td>Thueringen</td>\n",
       "      <td>SK Weimar</td>\n",
       "      <td>90</td>\n",
       "      <td>M</td>\n",
       "      <td>2021-02-05</td>\n",
       "      <td>1</td>\n",
       "      <td>0</td>\n",
       "      <td>1</td>\n",
       "      <td>772</td>\n",
       "      <td>132</td>\n",
       "      <td>1</td>\n",
       "      <td>1612483200</td>\n",
       "    </tr>\n",
       "    <tr>\n",
       "      <th>1539623</th>\n",
       "      <td>Thueringen</td>\n",
       "      <td>SK Weimar</td>\n",
       "      <td>90</td>\n",
       "      <td>M</td>\n",
       "      <td>2021-02-11</td>\n",
       "      <td>1</td>\n",
       "      <td>0</td>\n",
       "      <td>1</td>\n",
       "      <td>772</td>\n",
       "      <td>132</td>\n",
       "      <td>1</td>\n",
       "      <td>1613001600</td>\n",
       "    </tr>\n",
       "    <tr>\n",
       "      <th>1539624</th>\n",
       "      <td>Thueringen</td>\n",
       "      <td>SK Weimar</td>\n",
       "      <td>90</td>\n",
       "      <td>M</td>\n",
       "      <td>2021-02-12</td>\n",
       "      <td>1</td>\n",
       "      <td>0</td>\n",
       "      <td>1</td>\n",
       "      <td>772</td>\n",
       "      <td>132</td>\n",
       "      <td>1</td>\n",
       "      <td>1613088000</td>\n",
       "    </tr>\n",
       "  </tbody>\n",
       "</table>\n",
       "<p>1539625 rows × 12 columns</p>\n",
       "</div>"
      ],
      "text/plain": [
       "                      state              county  age_group gender       date  \\\n",
       "0        Baden-Wuerttemberg  LK Alb-Donau-Kreis          2      F 2020-11-15   \n",
       "1        Baden-Wuerttemberg  LK Alb-Donau-Kreis          2      F 2020-11-17   \n",
       "2        Baden-Wuerttemberg  LK Alb-Donau-Kreis          2      F 2020-11-18   \n",
       "3        Baden-Wuerttemberg  LK Alb-Donau-Kreis          2      F 2020-11-19   \n",
       "4        Baden-Wuerttemberg  LK Alb-Donau-Kreis          2      F 2020-11-25   \n",
       "...                     ...                 ...        ...    ...        ...   \n",
       "1539620          Thueringen           SK Weimar         90      M 2021-02-03   \n",
       "1539621          Thueringen           SK Weimar         90      M 2021-02-03   \n",
       "1539622          Thueringen           SK Weimar         90      M 2021-02-05   \n",
       "1539623          Thueringen           SK Weimar         90      M 2021-02-11   \n",
       "1539624          Thueringen           SK Weimar         90      M 2021-02-12   \n",
       "\n",
       "         cases  deaths  recovered  density_county  density_state  \\\n",
       "0            1       0          1            1358            311   \n",
       "1            1       0          1            1358            311   \n",
       "2            1       0          1            1358            311   \n",
       "3            1       0          1            1358            311   \n",
       "4            1       0          1            1358            311   \n",
       "...        ...     ...        ...             ...            ...   \n",
       "1539620      3       0          1             772            132   \n",
       "1539621      3       0          1             772            132   \n",
       "1539622      1       0          1             772            132   \n",
       "1539623      1       0          1             772            132   \n",
       "1539624      1       0          1             772            132   \n",
       "\n",
       "         geschlecht_org       datum  \n",
       "0                     0  1605398400  \n",
       "1                     0  1605571200  \n",
       "2                     0  1605657600  \n",
       "3                     0  1605744000  \n",
       "4                     0  1606262400  \n",
       "...                 ...         ...  \n",
       "1539620               1  1612310400  \n",
       "1539621               1  1612310400  \n",
       "1539622               1  1612483200  \n",
       "1539623               1  1613001600  \n",
       "1539624               1  1613088000  \n",
       "\n",
       "[1539625 rows x 12 columns]"
      ]
     },
     "execution_count": 114,
     "metadata": {},
     "output_type": "execute_result"
    }
   ],
   "source": [
    "df"
   ]
  },
  {
   "cell_type": "code",
   "execution_count": 92,
   "metadata": {},
   "outputs": [
    {
     "data": {
      "text/html": [
       "<div>\n",
       "<style scoped>\n",
       "    .dataframe tbody tr th:only-of-type {\n",
       "        vertical-align: middle;\n",
       "    }\n",
       "\n",
       "    .dataframe tbody tr th {\n",
       "        vertical-align: top;\n",
       "    }\n",
       "\n",
       "    .dataframe thead th {\n",
       "        text-align: right;\n",
       "    }\n",
       "</style>\n",
       "<table border=\"1\" class=\"dataframe\">\n",
       "  <thead>\n",
       "    <tr style=\"text-align: right;\">\n",
       "      <th></th>\n",
       "      <th>state</th>\n",
       "      <th>county</th>\n",
       "      <th>age_group</th>\n",
       "      <th>gender</th>\n",
       "      <th>date</th>\n",
       "      <th>cases</th>\n",
       "      <th>deaths</th>\n",
       "      <th>recovered</th>\n",
       "      <th>density_county</th>\n",
       "      <th>density_state</th>\n",
       "      <th>geschlecht_org</th>\n",
       "      <th>datum</th>\n",
       "    </tr>\n",
       "  </thead>\n",
       "  <tbody>\n",
       "    <tr>\n",
       "      <th>0</th>\n",
       "      <td>Baden-Wuerttemberg</td>\n",
       "      <td>LK Alb-Donau-Kreis</td>\n",
       "      <td>2</td>\n",
       "      <td>F</td>\n",
       "      <td>2020-11-15</td>\n",
       "      <td>1</td>\n",
       "      <td>0</td>\n",
       "      <td>1</td>\n",
       "      <td>1358</td>\n",
       "      <td>311</td>\n",
       "      <td>0</td>\n",
       "      <td>1605398400</td>\n",
       "    </tr>\n",
       "    <tr>\n",
       "      <th>1</th>\n",
       "      <td>Baden-Wuerttemberg</td>\n",
       "      <td>LK Alb-Donau-Kreis</td>\n",
       "      <td>2</td>\n",
       "      <td>F</td>\n",
       "      <td>2020-11-17</td>\n",
       "      <td>1</td>\n",
       "      <td>0</td>\n",
       "      <td>1</td>\n",
       "      <td>1358</td>\n",
       "      <td>311</td>\n",
       "      <td>0</td>\n",
       "      <td>1605571200</td>\n",
       "    </tr>\n",
       "    <tr>\n",
       "      <th>2</th>\n",
       "      <td>Baden-Wuerttemberg</td>\n",
       "      <td>LK Alb-Donau-Kreis</td>\n",
       "      <td>2</td>\n",
       "      <td>F</td>\n",
       "      <td>2020-11-18</td>\n",
       "      <td>1</td>\n",
       "      <td>0</td>\n",
       "      <td>1</td>\n",
       "      <td>1358</td>\n",
       "      <td>311</td>\n",
       "      <td>0</td>\n",
       "      <td>1605657600</td>\n",
       "    </tr>\n",
       "    <tr>\n",
       "      <th>3</th>\n",
       "      <td>Baden-Wuerttemberg</td>\n",
       "      <td>LK Alb-Donau-Kreis</td>\n",
       "      <td>2</td>\n",
       "      <td>F</td>\n",
       "      <td>2020-11-19</td>\n",
       "      <td>1</td>\n",
       "      <td>0</td>\n",
       "      <td>1</td>\n",
       "      <td>1358</td>\n",
       "      <td>311</td>\n",
       "      <td>0</td>\n",
       "      <td>1605744000</td>\n",
       "    </tr>\n",
       "    <tr>\n",
       "      <th>4</th>\n",
       "      <td>Baden-Wuerttemberg</td>\n",
       "      <td>LK Alb-Donau-Kreis</td>\n",
       "      <td>2</td>\n",
       "      <td>F</td>\n",
       "      <td>2020-11-25</td>\n",
       "      <td>1</td>\n",
       "      <td>0</td>\n",
       "      <td>1</td>\n",
       "      <td>1358</td>\n",
       "      <td>311</td>\n",
       "      <td>0</td>\n",
       "      <td>1606262400</td>\n",
       "    </tr>\n",
       "    <tr>\n",
       "      <th>...</th>\n",
       "      <td>...</td>\n",
       "      <td>...</td>\n",
       "      <td>...</td>\n",
       "      <td>...</td>\n",
       "      <td>...</td>\n",
       "      <td>...</td>\n",
       "      <td>...</td>\n",
       "      <td>...</td>\n",
       "      <td>...</td>\n",
       "      <td>...</td>\n",
       "      <td>...</td>\n",
       "      <td>...</td>\n",
       "    </tr>\n",
       "    <tr>\n",
       "      <th>1539620</th>\n",
       "      <td>Thueringen</td>\n",
       "      <td>SK Weimar</td>\n",
       "      <td>90</td>\n",
       "      <td>M</td>\n",
       "      <td>2021-02-03</td>\n",
       "      <td>3</td>\n",
       "      <td>0</td>\n",
       "      <td>1</td>\n",
       "      <td>772</td>\n",
       "      <td>132</td>\n",
       "      <td>1</td>\n",
       "      <td>1612310400</td>\n",
       "    </tr>\n",
       "    <tr>\n",
       "      <th>1539621</th>\n",
       "      <td>Thueringen</td>\n",
       "      <td>SK Weimar</td>\n",
       "      <td>90</td>\n",
       "      <td>M</td>\n",
       "      <td>2021-02-03</td>\n",
       "      <td>3</td>\n",
       "      <td>0</td>\n",
       "      <td>1</td>\n",
       "      <td>772</td>\n",
       "      <td>132</td>\n",
       "      <td>1</td>\n",
       "      <td>1612310400</td>\n",
       "    </tr>\n",
       "    <tr>\n",
       "      <th>1539622</th>\n",
       "      <td>Thueringen</td>\n",
       "      <td>SK Weimar</td>\n",
       "      <td>90</td>\n",
       "      <td>M</td>\n",
       "      <td>2021-02-05</td>\n",
       "      <td>1</td>\n",
       "      <td>0</td>\n",
       "      <td>1</td>\n",
       "      <td>772</td>\n",
       "      <td>132</td>\n",
       "      <td>1</td>\n",
       "      <td>1612483200</td>\n",
       "    </tr>\n",
       "    <tr>\n",
       "      <th>1539623</th>\n",
       "      <td>Thueringen</td>\n",
       "      <td>SK Weimar</td>\n",
       "      <td>90</td>\n",
       "      <td>M</td>\n",
       "      <td>2021-02-11</td>\n",
       "      <td>1</td>\n",
       "      <td>0</td>\n",
       "      <td>1</td>\n",
       "      <td>772</td>\n",
       "      <td>132</td>\n",
       "      <td>1</td>\n",
       "      <td>1613001600</td>\n",
       "    </tr>\n",
       "    <tr>\n",
       "      <th>1539624</th>\n",
       "      <td>Thueringen</td>\n",
       "      <td>SK Weimar</td>\n",
       "      <td>90</td>\n",
       "      <td>M</td>\n",
       "      <td>2021-02-12</td>\n",
       "      <td>1</td>\n",
       "      <td>0</td>\n",
       "      <td>1</td>\n",
       "      <td>772</td>\n",
       "      <td>132</td>\n",
       "      <td>1</td>\n",
       "      <td>1613088000</td>\n",
       "    </tr>\n",
       "  </tbody>\n",
       "</table>\n",
       "<p>1539625 rows × 12 columns</p>\n",
       "</div>"
      ],
      "text/plain": [
       "                      state              county  age_group gender        date  \\\n",
       "0        Baden-Wuerttemberg  LK Alb-Donau-Kreis          2      F  2020-11-15   \n",
       "1        Baden-Wuerttemberg  LK Alb-Donau-Kreis          2      F  2020-11-17   \n",
       "2        Baden-Wuerttemberg  LK Alb-Donau-Kreis          2      F  2020-11-18   \n",
       "3        Baden-Wuerttemberg  LK Alb-Donau-Kreis          2      F  2020-11-19   \n",
       "4        Baden-Wuerttemberg  LK Alb-Donau-Kreis          2      F  2020-11-25   \n",
       "...                     ...                 ...        ...    ...         ...   \n",
       "1539620          Thueringen           SK Weimar         90      M  2021-02-03   \n",
       "1539621          Thueringen           SK Weimar         90      M  2021-02-03   \n",
       "1539622          Thueringen           SK Weimar         90      M  2021-02-05   \n",
       "1539623          Thueringen           SK Weimar         90      M  2021-02-11   \n",
       "1539624          Thueringen           SK Weimar         90      M  2021-02-12   \n",
       "\n",
       "         cases  deaths  recovered  density_county  density_state  \\\n",
       "0            1       0          1            1358            311   \n",
       "1            1       0          1            1358            311   \n",
       "2            1       0          1            1358            311   \n",
       "3            1       0          1            1358            311   \n",
       "4            1       0          1            1358            311   \n",
       "...        ...     ...        ...             ...            ...   \n",
       "1539620      3       0          1             772            132   \n",
       "1539621      3       0          1             772            132   \n",
       "1539622      1       0          1             772            132   \n",
       "1539623      1       0          1             772            132   \n",
       "1539624      1       0          1             772            132   \n",
       "\n",
       "         geschlecht_org       datum  \n",
       "0                     0  1605398400  \n",
       "1                     0  1605571200  \n",
       "2                     0  1605657600  \n",
       "3                     0  1605744000  \n",
       "4                     0  1606262400  \n",
       "...                 ...         ...  \n",
       "1539620               1  1612310400  \n",
       "1539621               1  1612310400  \n",
       "1539622               1  1612483200  \n",
       "1539623               1  1613001600  \n",
       "1539624               1  1613088000  \n",
       "\n",
       "[1539625 rows x 12 columns]"
      ]
     },
     "execution_count": 92,
     "metadata": {},
     "output_type": "execute_result"
    }
   ],
   "source": [
    "df"
   ]
  },
  {
   "cell_type": "code",
   "execution_count": 93,
   "metadata": {},
   "outputs": [
    {
     "data": {
      "image/png": "[encoded data removed]",
      "text/plain": [
       "<Figure size 720x720 with 2 Axes>"
      ]
     },
     "metadata": {
      "needs_background": "light"
     },
     "output_type": "display_data"
    },
    {
     "data": {
      "text/plain": [
       "<Figure size 432x288 with 0 Axes>"
      ]
     },
     "metadata": {},
     "output_type": "display_data"
    }
   ],
   "source": [
    "corr = df.drop(['state','county','date','gender','recovered'], axis=1).corr()\n",
    "# Plot heatmap of correlation matrix\n",
    "plt.figure(figsize=(10,10))\n",
    "sns.heatmap(corr, annot=True)\n",
    "plt.yticks(rotation=0); plt.xticks(rotation=90)  # fix ticklabel directions\n",
    "plt.tight_layout()  # fits plot area to the plot, \"tightly\"\n",
    "plt.show()  # show the plot\n",
    "plt.clf()"
   ]
  },
  {
   "cell_type": "markdown",
   "metadata": {},
   "source": [
    "# Korrelationsmatrix zwischen den Variablen des Covid-19-Datensatzes:\n",
    "    Die hervorgehobene Zelle unten zeigt beispielsweise, dass die Korrelation zwischen den Spalten „deaths“ und „age_group“ \n",
    "    0,3 beträgt, was darauf hinweist, dass sie positiv korreliert sind. Je älter die Covid-19 erkrankten Personen sind\n",
    "    , desto mehr sterben sie an Covid-19."
   ]
  },
  {
   "cell_type": "code",
   "execution_count": 116,
   "metadata": {},
   "outputs": [
    {
     "data": {
      "text/plain": [
       "state             0\n",
       "county            0\n",
       "age_group         0\n",
       "gender            0\n",
       "date              0\n",
       "cases             0\n",
       "deaths            0\n",
       "recovered         0\n",
       "density_county    0\n",
       "density_state     0\n",
       "geschlecht_org    0\n",
       "datum             0\n",
       "dtype: int64"
      ]
     },
     "execution_count": 116,
     "metadata": {},
     "output_type": "execute_result"
    }
   ],
   "source": [
    "df.isnull().sum()"
   ]
  },
  {
   "cell_type": "code",
   "execution_count": 5,
   "metadata": {},
   "outputs": [
    {
     "data": {
      "text/html": [
       "<div>\n",
       "<style scoped>\n",
       "    .dataframe tbody tr th:only-of-type {\n",
       "        vertical-align: middle;\n",
       "    }\n",
       "\n",
       "    .dataframe tbody tr th {\n",
       "        vertical-align: top;\n",
       "    }\n",
       "\n",
       "    .dataframe thead th {\n",
       "        text-align: right;\n",
       "    }\n",
       "</style>\n",
       "<table border=\"1\" class=\"dataframe\">\n",
       "  <thead>\n",
       "    <tr style=\"text-align: right;\">\n",
       "      <th></th>\n",
       "      <th>state</th>\n",
       "      <th>county</th>\n",
       "      <th>age_group</th>\n",
       "      <th>gender</th>\n",
       "      <th>date</th>\n",
       "      <th>cases</th>\n",
       "      <th>deaths</th>\n",
       "      <th>recovered</th>\n",
       "      <th>density_county</th>\n",
       "      <th>density_state</th>\n",
       "      <th>geschlecht_org</th>\n",
       "      <th>datum</th>\n",
       "    </tr>\n",
       "  </thead>\n",
       "  <tbody>\n",
       "    <tr>\n",
       "      <th>0</th>\n",
       "      <td>Baden-Wuerttemberg</td>\n",
       "      <td>LK Alb-Donau-Kreis</td>\n",
       "      <td>2</td>\n",
       "      <td>F</td>\n",
       "      <td>2020-11-15</td>\n",
       "      <td>1</td>\n",
       "      <td>0</td>\n",
       "      <td>1</td>\n",
       "      <td>1358</td>\n",
       "      <td>311</td>\n",
       "      <td>0</td>\n",
       "      <td>1605398400</td>\n",
       "    </tr>\n",
       "    <tr>\n",
       "      <th>1</th>\n",
       "      <td>Baden-Wuerttemberg</td>\n",
       "      <td>LK Alb-Donau-Kreis</td>\n",
       "      <td>2</td>\n",
       "      <td>F</td>\n",
       "      <td>2020-11-17</td>\n",
       "      <td>1</td>\n",
       "      <td>0</td>\n",
       "      <td>1</td>\n",
       "      <td>1358</td>\n",
       "      <td>311</td>\n",
       "      <td>0</td>\n",
       "      <td>1605571200</td>\n",
       "    </tr>\n",
       "    <tr>\n",
       "      <th>2</th>\n",
       "      <td>Baden-Wuerttemberg</td>\n",
       "      <td>LK Alb-Donau-Kreis</td>\n",
       "      <td>2</td>\n",
       "      <td>F</td>\n",
       "      <td>2020-11-18</td>\n",
       "      <td>1</td>\n",
       "      <td>0</td>\n",
       "      <td>1</td>\n",
       "      <td>1358</td>\n",
       "      <td>311</td>\n",
       "      <td>0</td>\n",
       "      <td>1605657600</td>\n",
       "    </tr>\n",
       "    <tr>\n",
       "      <th>3</th>\n",
       "      <td>Baden-Wuerttemberg</td>\n",
       "      <td>LK Alb-Donau-Kreis</td>\n",
       "      <td>2</td>\n",
       "      <td>F</td>\n",
       "      <td>2020-11-19</td>\n",
       "      <td>1</td>\n",
       "      <td>0</td>\n",
       "      <td>1</td>\n",
       "      <td>1358</td>\n",
       "      <td>311</td>\n",
       "      <td>0</td>\n",
       "      <td>1605744000</td>\n",
       "    </tr>\n",
       "    <tr>\n",
       "      <th>4</th>\n",
       "      <td>Baden-Wuerttemberg</td>\n",
       "      <td>LK Alb-Donau-Kreis</td>\n",
       "      <td>2</td>\n",
       "      <td>F</td>\n",
       "      <td>2020-11-25</td>\n",
       "      <td>1</td>\n",
       "      <td>0</td>\n",
       "      <td>1</td>\n",
       "      <td>1358</td>\n",
       "      <td>311</td>\n",
       "      <td>0</td>\n",
       "      <td>1606262400</td>\n",
       "    </tr>\n",
       "    <tr>\n",
       "      <th>...</th>\n",
       "      <td>...</td>\n",
       "      <td>...</td>\n",
       "      <td>...</td>\n",
       "      <td>...</td>\n",
       "      <td>...</td>\n",
       "      <td>...</td>\n",
       "      <td>...</td>\n",
       "      <td>...</td>\n",
       "      <td>...</td>\n",
       "      <td>...</td>\n",
       "      <td>...</td>\n",
       "      <td>...</td>\n",
       "    </tr>\n",
       "    <tr>\n",
       "      <th>1539620</th>\n",
       "      <td>Thueringen</td>\n",
       "      <td>SK Weimar</td>\n",
       "      <td>90</td>\n",
       "      <td>M</td>\n",
       "      <td>2021-02-03</td>\n",
       "      <td>3</td>\n",
       "      <td>0</td>\n",
       "      <td>1</td>\n",
       "      <td>772</td>\n",
       "      <td>132</td>\n",
       "      <td>1</td>\n",
       "      <td>1612310400</td>\n",
       "    </tr>\n",
       "    <tr>\n",
       "      <th>1539621</th>\n",
       "      <td>Thueringen</td>\n",
       "      <td>SK Weimar</td>\n",
       "      <td>90</td>\n",
       "      <td>M</td>\n",
       "      <td>2021-02-03</td>\n",
       "      <td>3</td>\n",
       "      <td>0</td>\n",
       "      <td>1</td>\n",
       "      <td>772</td>\n",
       "      <td>132</td>\n",
       "      <td>1</td>\n",
       "      <td>1612310400</td>\n",
       "    </tr>\n",
       "    <tr>\n",
       "      <th>1539622</th>\n",
       "      <td>Thueringen</td>\n",
       "      <td>SK Weimar</td>\n",
       "      <td>90</td>\n",
       "      <td>M</td>\n",
       "      <td>2021-02-05</td>\n",
       "      <td>1</td>\n",
       "      <td>0</td>\n",
       "      <td>1</td>\n",
       "      <td>772</td>\n",
       "      <td>132</td>\n",
       "      <td>1</td>\n",
       "      <td>1612483200</td>\n",
       "    </tr>\n",
       "    <tr>\n",
       "      <th>1539623</th>\n",
       "      <td>Thueringen</td>\n",
       "      <td>SK Weimar</td>\n",
       "      <td>90</td>\n",
       "      <td>M</td>\n",
       "      <td>2021-02-11</td>\n",
       "      <td>1</td>\n",
       "      <td>0</td>\n",
       "      <td>1</td>\n",
       "      <td>772</td>\n",
       "      <td>132</td>\n",
       "      <td>1</td>\n",
       "      <td>1613001600</td>\n",
       "    </tr>\n",
       "    <tr>\n",
       "      <th>1539624</th>\n",
       "      <td>Thueringen</td>\n",
       "      <td>SK Weimar</td>\n",
       "      <td>90</td>\n",
       "      <td>M</td>\n",
       "      <td>2021-02-12</td>\n",
       "      <td>1</td>\n",
       "      <td>0</td>\n",
       "      <td>1</td>\n",
       "      <td>772</td>\n",
       "      <td>132</td>\n",
       "      <td>1</td>\n",
       "      <td>1613088000</td>\n",
       "    </tr>\n",
       "  </tbody>\n",
       "</table>\n",
       "<p>1539625 rows × 12 columns</p>\n",
       "</div>"
      ],
      "text/plain": [
       "                      state              county  age_group gender        date  \\\n",
       "0        Baden-Wuerttemberg  LK Alb-Donau-Kreis          2      F  2020-11-15   \n",
       "1        Baden-Wuerttemberg  LK Alb-Donau-Kreis          2      F  2020-11-17   \n",
       "2        Baden-Wuerttemberg  LK Alb-Donau-Kreis          2      F  2020-11-18   \n",
       "3        Baden-Wuerttemberg  LK Alb-Donau-Kreis          2      F  2020-11-19   \n",
       "4        Baden-Wuerttemberg  LK Alb-Donau-Kreis          2      F  2020-11-25   \n",
       "...                     ...                 ...        ...    ...         ...   \n",
       "1539620          Thueringen           SK Weimar         90      M  2021-02-03   \n",
       "1539621          Thueringen           SK Weimar         90      M  2021-02-03   \n",
       "1539622          Thueringen           SK Weimar         90      M  2021-02-05   \n",
       "1539623          Thueringen           SK Weimar         90      M  2021-02-11   \n",
       "1539624          Thueringen           SK Weimar         90      M  2021-02-12   \n",
       "\n",
       "         cases  deaths  recovered  density_county  density_state  \\\n",
       "0            1       0          1            1358            311   \n",
       "1            1       0          1            1358            311   \n",
       "2            1       0          1            1358            311   \n",
       "3            1       0          1            1358            311   \n",
       "4            1       0          1            1358            311   \n",
       "...        ...     ...        ...             ...            ...   \n",
       "1539620      3       0          1             772            132   \n",
       "1539621      3       0          1             772            132   \n",
       "1539622      1       0          1             772            132   \n",
       "1539623      1       0          1             772            132   \n",
       "1539624      1       0          1             772            132   \n",
       "\n",
       "         geschlecht_org       datum  \n",
       "0                     0  1605398400  \n",
       "1                     0  1605571200  \n",
       "2                     0  1605657600  \n",
       "3                     0  1605744000  \n",
       "4                     0  1606262400  \n",
       "...                 ...         ...  \n",
       "1539620               1  1612310400  \n",
       "1539621               1  1612310400  \n",
       "1539622               1  1612483200  \n",
       "1539623               1  1613001600  \n",
       "1539624               1  1613088000  \n",
       "\n",
       "[1539625 rows x 12 columns]"
      ]
     },
     "execution_count": 5,
     "metadata": {},
     "output_type": "execute_result"
    }
   ],
   "source": [
    "df"
   ]
  },
  {
   "cell_type": "code",
   "execution_count": 28,
   "metadata": {},
   "outputs": [
    {
     "data": {
      "text/plain": [
       "57123"
      ]
     },
     "execution_count": 28,
     "metadata": {},
     "output_type": "execute_result"
    }
   ],
   "source": [
    "df[\"deaths\"].sum()"
   ]
  },
  {
   "cell_type": "code",
   "execution_count": 94,
   "metadata": {},
   "outputs": [
    {
     "data": {
      "text/plain": [
       "1482502"
      ]
     },
     "execution_count": 94,
     "metadata": {},
     "output_type": "execute_result"
    }
   ],
   "source": [
    "df[\"recovered\"].sum()"
   ]
  },
  {
   "cell_type": "markdown",
   "metadata": {},
   "source": [
    "# Ausführung des KNN-Algorithmus auf dem Covid-19-Datensatz "
   ]
  },
  {
   "cell_type": "code",
   "execution_count": 34,
   "metadata": {},
   "outputs": [],
   "source": [
    "y = df.deaths\n",
    "X = df.drop(['deaths'],axis=1)"
   ]
  },
  {
   "cell_type": "code",
   "execution_count": 35,
   "metadata": {},
   "outputs": [
    {
     "data": {
      "text/plain": [
       "57123"
      ]
     },
     "execution_count": 35,
     "metadata": {},
     "output_type": "execute_result"
    }
   ],
   "source": [
    "y.sum()"
   ]
  },
  {
   "cell_type": "code",
   "execution_count": 36,
   "metadata": {},
   "outputs": [],
   "source": [
    "X_train_input, X_test_input, y_train, y_test = train_test_split(X, y, test_size=0.25, random_state=42)"
   ]
  },
  {
   "cell_type": "code",
   "execution_count": 37,
   "metadata": {},
   "outputs": [
    {
     "data": {
      "text/html": [
       "<div>\n",
       "<style scoped>\n",
       "    .dataframe tbody tr th:only-of-type {\n",
       "        vertical-align: middle;\n",
       "    }\n",
       "\n",
       "    .dataframe tbody tr th {\n",
       "        vertical-align: top;\n",
       "    }\n",
       "\n",
       "    .dataframe thead th {\n",
       "        text-align: right;\n",
       "    }\n",
       "</style>\n",
       "<table border=\"1\" class=\"dataframe\">\n",
       "  <thead>\n",
       "    <tr style=\"text-align: right;\">\n",
       "      <th></th>\n",
       "      <th>state</th>\n",
       "      <th>county</th>\n",
       "      <th>age_group</th>\n",
       "      <th>gender</th>\n",
       "      <th>date</th>\n",
       "      <th>cases</th>\n",
       "      <th>recovered</th>\n",
       "      <th>density_county</th>\n",
       "      <th>density_state</th>\n",
       "      <th>geschlecht_org</th>\n",
       "      <th>datum</th>\n",
       "    </tr>\n",
       "  </thead>\n",
       "  <tbody>\n",
       "    <tr>\n",
       "      <th>1122545</th>\n",
       "      <td>Nordrhein-Westfalen</td>\n",
       "      <td>SK Koeln</td>\n",
       "      <td>90</td>\n",
       "      <td>F</td>\n",
       "      <td>2021-01-20</td>\n",
       "      <td>14</td>\n",
       "      <td>1</td>\n",
       "      <td>2686</td>\n",
       "      <td>526</td>\n",
       "      <td>0</td>\n",
       "      <td>1611100800</td>\n",
       "    </tr>\n",
       "    <tr>\n",
       "      <th>1365100</th>\n",
       "      <td>Sachsen</td>\n",
       "      <td>LK Zwickau</td>\n",
       "      <td>90</td>\n",
       "      <td>M</td>\n",
       "      <td>2021-01-12</td>\n",
       "      <td>21</td>\n",
       "      <td>1</td>\n",
       "      <td>332</td>\n",
       "      <td>221</td>\n",
       "      <td>1</td>\n",
       "      <td>1610409600</td>\n",
       "    </tr>\n",
       "    <tr>\n",
       "      <th>917322</th>\n",
       "      <td>Nordrhein-Westfalen</td>\n",
       "      <td>LK Maerkischer Kreis</td>\n",
       "      <td>47</td>\n",
       "      <td>F</td>\n",
       "      <td>2021-02-03</td>\n",
       "      <td>17</td>\n",
       "      <td>1</td>\n",
       "      <td>387</td>\n",
       "      <td>526</td>\n",
       "      <td>0</td>\n",
       "      <td>1612310400</td>\n",
       "    </tr>\n",
       "    <tr>\n",
       "      <th>1318388</th>\n",
       "      <td>Sachsen</td>\n",
       "      <td>LK Mittelsachsen</td>\n",
       "      <td>70</td>\n",
       "      <td>F</td>\n",
       "      <td>2020-12-28</td>\n",
       "      <td>9</td>\n",
       "      <td>0</td>\n",
       "      <td>144</td>\n",
       "      <td>221</td>\n",
       "      <td>0</td>\n",
       "      <td>1609113600</td>\n",
       "    </tr>\n",
       "  </tbody>\n",
       "</table>\n",
       "</div>"
      ],
      "text/plain": [
       "                       state                county  age_group gender  \\\n",
       "1122545  Nordrhein-Westfalen              SK Koeln         90      F   \n",
       "1365100              Sachsen            LK Zwickau         90      M   \n",
       "917322   Nordrhein-Westfalen  LK Maerkischer Kreis         47      F   \n",
       "1318388              Sachsen      LK Mittelsachsen         70      F   \n",
       "\n",
       "               date  cases  recovered  density_county  density_state  \\\n",
       "1122545  2021-01-20     14          1            2686            526   \n",
       "1365100  2021-01-12     21          1             332            221   \n",
       "917322   2021-02-03     17          1             387            526   \n",
       "1318388  2020-12-28      9          0             144            221   \n",
       "\n",
       "         geschlecht_org       datum  \n",
       "1122545               0  1611100800  \n",
       "1365100               1  1610409600  \n",
       "917322                0  1612310400  \n",
       "1318388               0  1609113600  "
      ]
     },
     "execution_count": 37,
     "metadata": {},
     "output_type": "execute_result"
    }
   ],
   "source": [
    "X_train_input.head(4)"
   ]
  },
  {
   "cell_type": "code",
   "execution_count": 38,
   "metadata": {},
   "outputs": [
    {
     "data": {
      "text/html": [
       "<div>\n",
       "<style scoped>\n",
       "    .dataframe tbody tr th:only-of-type {\n",
       "        vertical-align: middle;\n",
       "    }\n",
       "\n",
       "    .dataframe tbody tr th {\n",
       "        vertical-align: top;\n",
       "    }\n",
       "\n",
       "    .dataframe thead th {\n",
       "        text-align: right;\n",
       "    }\n",
       "</style>\n",
       "<table border=\"1\" class=\"dataframe\">\n",
       "  <thead>\n",
       "    <tr style=\"text-align: right;\">\n",
       "      <th></th>\n",
       "      <th>state</th>\n",
       "      <th>county</th>\n",
       "      <th>age_group</th>\n",
       "      <th>gender</th>\n",
       "      <th>date</th>\n",
       "      <th>cases</th>\n",
       "      <th>recovered</th>\n",
       "      <th>density_county</th>\n",
       "      <th>density_state</th>\n",
       "      <th>geschlecht_org</th>\n",
       "      <th>datum</th>\n",
       "    </tr>\n",
       "  </thead>\n",
       "  <tbody>\n",
       "    <tr>\n",
       "      <th>899007</th>\n",
       "      <td>Nordrhein-Westfalen</td>\n",
       "      <td>LK Hochsauerlandkreis</td>\n",
       "      <td>90</td>\n",
       "      <td>M</td>\n",
       "      <td>2021-01-20</td>\n",
       "      <td>4</td>\n",
       "      <td>1</td>\n",
       "      <td>133</td>\n",
       "      <td>526</td>\n",
       "      <td>1</td>\n",
       "      <td>1611100800</td>\n",
       "    </tr>\n",
       "    <tr>\n",
       "      <th>1057250</th>\n",
       "      <td>Nordrhein-Westfalen</td>\n",
       "      <td>SK Dortmund</td>\n",
       "      <td>47</td>\n",
       "      <td>M</td>\n",
       "      <td>2021-01-20</td>\n",
       "      <td>20</td>\n",
       "      <td>1</td>\n",
       "      <td>2096</td>\n",
       "      <td>526</td>\n",
       "      <td>1</td>\n",
       "      <td>1611100800</td>\n",
       "    </tr>\n",
       "    <tr>\n",
       "      <th>490454</th>\n",
       "      <td>Berlin</td>\n",
       "      <td>SK Berlin Neukoelln</td>\n",
       "      <td>90</td>\n",
       "      <td>F</td>\n",
       "      <td>2020-12-17</td>\n",
       "      <td>35</td>\n",
       "      <td>1</td>\n",
       "      <td>14201</td>\n",
       "      <td>4090</td>\n",
       "      <td>0</td>\n",
       "      <td>1608163200</td>\n",
       "    </tr>\n",
       "    <tr>\n",
       "      <th>1307121</th>\n",
       "      <td>Sachsen</td>\n",
       "      <td>LK Meissen</td>\n",
       "      <td>70</td>\n",
       "      <td>M</td>\n",
       "      <td>2020-12-07</td>\n",
       "      <td>24</td>\n",
       "      <td>1</td>\n",
       "      <td>166</td>\n",
       "      <td>221</td>\n",
       "      <td>1</td>\n",
       "      <td>1607299200</td>\n",
       "    </tr>\n",
       "  </tbody>\n",
       "</table>\n",
       "</div>"
      ],
      "text/plain": [
       "                       state                 county  age_group gender  \\\n",
       "899007   Nordrhein-Westfalen  LK Hochsauerlandkreis         90      M   \n",
       "1057250  Nordrhein-Westfalen            SK Dortmund         47      M   \n",
       "490454                Berlin    SK Berlin Neukoelln         90      F   \n",
       "1307121              Sachsen             LK Meissen         70      M   \n",
       "\n",
       "               date  cases  recovered  density_county  density_state  \\\n",
       "899007   2021-01-20      4          1             133            526   \n",
       "1057250  2021-01-20     20          1            2096            526   \n",
       "490454   2020-12-17     35          1           14201           4090   \n",
       "1307121  2020-12-07     24          1             166            221   \n",
       "\n",
       "         geschlecht_org       datum  \n",
       "899007                1  1611100800  \n",
       "1057250               1  1611100800  \n",
       "490454                0  1608163200  \n",
       "1307121               1  1607299200  "
      ]
     },
     "execution_count": 38,
     "metadata": {},
     "output_type": "execute_result"
    }
   ],
   "source": [
    "X_test_input.head(4)"
   ]
  },
  {
   "cell_type": "code",
   "execution_count": 39,
   "metadata": {},
   "outputs": [
    {
     "data": {
      "text/html": [
       "<div>\n",
       "<style scoped>\n",
       "    .dataframe tbody tr th:only-of-type {\n",
       "        vertical-align: middle;\n",
       "    }\n",
       "\n",
       "    .dataframe tbody tr th {\n",
       "        vertical-align: top;\n",
       "    }\n",
       "\n",
       "    .dataframe thead th {\n",
       "        text-align: right;\n",
       "    }\n",
       "</style>\n",
       "<table border=\"1\" class=\"dataframe\">\n",
       "  <thead>\n",
       "    <tr style=\"text-align: right;\">\n",
       "      <th></th>\n",
       "      <th>state</th>\n",
       "      <th>county</th>\n",
       "      <th>age_group</th>\n",
       "      <th>gender</th>\n",
       "      <th>date</th>\n",
       "      <th>cases</th>\n",
       "      <th>deaths</th>\n",
       "      <th>recovered</th>\n",
       "      <th>density_county</th>\n",
       "      <th>density_state</th>\n",
       "      <th>geschlecht_org</th>\n",
       "      <th>datum</th>\n",
       "    </tr>\n",
       "  </thead>\n",
       "  <tbody>\n",
       "    <tr>\n",
       "      <th>0</th>\n",
       "      <td>Baden-Wuerttemberg</td>\n",
       "      <td>LK Alb-Donau-Kreis</td>\n",
       "      <td>2</td>\n",
       "      <td>F</td>\n",
       "      <td>2020-11-15</td>\n",
       "      <td>1</td>\n",
       "      <td>0</td>\n",
       "      <td>1</td>\n",
       "      <td>1358</td>\n",
       "      <td>311</td>\n",
       "      <td>0</td>\n",
       "      <td>1605398400</td>\n",
       "    </tr>\n",
       "  </tbody>\n",
       "</table>\n",
       "</div>"
      ],
      "text/plain": [
       "                state              county  age_group gender        date  \\\n",
       "0  Baden-Wuerttemberg  LK Alb-Donau-Kreis          2      F  2020-11-15   \n",
       "\n",
       "   cases  deaths  recovered  density_county  density_state  geschlecht_org  \\\n",
       "0      1       0          1            1358            311               0   \n",
       "\n",
       "        datum  \n",
       "0  1605398400  "
      ]
     },
     "execution_count": 39,
     "metadata": {},
     "output_type": "execute_result"
    }
   ],
   "source": [
    "df.head(1)"
   ]
  },
  {
   "cell_type": "code",
   "execution_count": 40,
   "metadata": {},
   "outputs": [],
   "source": [
    "X_test=X_test_input.drop(['state','county','date','gender','cases', 'recovered'], axis=1)\n",
    "X_train=X_train_input.drop(['state','county','date','gender','cases', 'recovered'], axis=1)"
   ]
  },
  {
   "cell_type": "code",
   "execution_count": 41,
   "metadata": {
    "scrolled": true
   },
   "outputs": [
    {
     "data": {
      "text/html": [
       "<div>\n",
       "<style scoped>\n",
       "    .dataframe tbody tr th:only-of-type {\n",
       "        vertical-align: middle;\n",
       "    }\n",
       "\n",
       "    .dataframe tbody tr th {\n",
       "        vertical-align: top;\n",
       "    }\n",
       "\n",
       "    .dataframe thead th {\n",
       "        text-align: right;\n",
       "    }\n",
       "</style>\n",
       "<table border=\"1\" class=\"dataframe\">\n",
       "  <thead>\n",
       "    <tr style=\"text-align: right;\">\n",
       "      <th></th>\n",
       "      <th>age_group</th>\n",
       "      <th>density_county</th>\n",
       "      <th>density_state</th>\n",
       "      <th>geschlecht_org</th>\n",
       "      <th>datum</th>\n",
       "    </tr>\n",
       "  </thead>\n",
       "  <tbody>\n",
       "    <tr>\n",
       "      <th>899007</th>\n",
       "      <td>90</td>\n",
       "      <td>133</td>\n",
       "      <td>526</td>\n",
       "      <td>1</td>\n",
       "      <td>1611100800</td>\n",
       "    </tr>\n",
       "    <tr>\n",
       "      <th>1057250</th>\n",
       "      <td>47</td>\n",
       "      <td>2096</td>\n",
       "      <td>526</td>\n",
       "      <td>1</td>\n",
       "      <td>1611100800</td>\n",
       "    </tr>\n",
       "    <tr>\n",
       "      <th>490454</th>\n",
       "      <td>90</td>\n",
       "      <td>14201</td>\n",
       "      <td>4090</td>\n",
       "      <td>0</td>\n",
       "      <td>1608163200</td>\n",
       "    </tr>\n",
       "    <tr>\n",
       "      <th>1307121</th>\n",
       "      <td>70</td>\n",
       "      <td>166</td>\n",
       "      <td>221</td>\n",
       "      <td>1</td>\n",
       "      <td>1607299200</td>\n",
       "    </tr>\n",
       "  </tbody>\n",
       "</table>\n",
       "</div>"
      ],
      "text/plain": [
       "         age_group  density_county  density_state  geschlecht_org       datum\n",
       "899007          90             133            526               1  1611100800\n",
       "1057250         47            2096            526               1  1611100800\n",
       "490454          90           14201           4090               0  1608163200\n",
       "1307121         70             166            221               1  1607299200"
      ]
     },
     "execution_count": 41,
     "metadata": {},
     "output_type": "execute_result"
    }
   ],
   "source": [
    "X_test.head(4)"
   ]
  },
  {
   "cell_type": "markdown",
   "metadata": {},
   "source": [
    "# Die Folgenden Faktoren werden untersucht:\n",
    "    1) Die Ausfürungsdauer (Lernen und Vorhersagen)\n",
    "    2) Der Speicherbedard (Lernen und Vorhersagen)\n",
    "    3) Auswahl der Paramenter des untersuchen Algotrithmus \n",
    "    "
   ]
  },
  {
   "cell_type": "code",
   "execution_count": 18,
   "metadata": {},
   "outputs": [
    {
     "name": "stdout",
     "output_type": "stream",
     "text": [
      "\n",
      " memory before (Byte):  859418624 \n",
      " memory after (Byte): 859422720 \n",
      " used_memory (Byte): 4096 \n",
      " time (Sekunde): 44.03518080711365\n"
     ]
    }
   ],
   "source": [
    "import time\n",
    "import os\n",
    "import psutil\n",
    " \n",
    "def get_process_memory():\n",
    "    process = psutil.Process(os.getpid())\n",
    "    mem_info = process.memory_info()\n",
    "    return mem_info.rss\n",
    "\n",
    "mem_before=get_process_memory()\n",
    "start=time.time()\n",
    "knn= KNeighborsClassifier(n_neighbors=3).fit(X_train, y_train)\n",
    "finish=time.time()- start\n",
    "mem_after= get_process_memory()\n",
    "print(\"\\n\",\"memory before (Byte): \",mem_before,\"\\n\",\"memory after (Byte):\", mem_after ,\"\\n\", \"used_memory (Byte):\",mem_after - mem_before,\"\\n\",\n",
    "        \"time (Sekunde):\", finish)\n"
   ]
  },
  {
   "cell_type": "code",
   "execution_count": 19,
   "metadata": {},
   "outputs": [
    {
     "name": "stdout",
     "output_type": "stream",
     "text": [
      "\n",
      " memory before (Byte):  859422720 \n",
      " memory after (Byte): 859422720 \n",
      " used_memory (Byte): 0 \n",
      " time (Sekunde): 113.8943657875061\n"
     ]
    }
   ],
   "source": [
    "import time\n",
    "import os\n",
    "import psutil\n",
    " \n",
    "def get_process_memory():\n",
    "    process = psutil.Process(os.getpid())\n",
    "    mem_info = process.memory_info()\n",
    "    return mem_info.rss\n",
    "\n",
    "mem_before=get_process_memory()\n",
    "start=time.time()\n",
    "\n",
    "pred = np.array(knn.predict(X_test))\n",
    "pred_train = np.array(knn.predict(X_train))\n",
    "\n",
    "finish=time.time()- start\n",
    "mem_after= get_process_memory()\n",
    "print(\"\\n\",\"memory before (Byte): \",mem_before,\"\\n\",\"memory after (Byte):\", mem_after ,\"\\n\", \"used_memory (Byte):\",mem_after - mem_before,\"\\n\",\n",
    "        \"time (Sekunde):\", finish)"
   ]
  },
  {
   "cell_type": "markdown",
   "metadata": {},
   "source": [
    "# Bewertung der Ergebnisse"
   ]
  },
  {
   "cell_type": "code",
   "execution_count": 20,
   "metadata": {},
   "outputs": [
    {
     "name": "stdout",
     "output_type": "stream",
     "text": [
      "Accuracy of test_data:  0.9535524165577659\n",
      "Accuracy of train_data:  0.9642267635907642\n",
      "*** Evaluation metrics for test dataset ***\n",
      "\n",
      "Recall Score:  0.1110041265474553\n",
      "Precision Score:  0.24581175753883644\n",
      "F1 Score:  0.15294229129157585\n",
      "Accuracy:  0.9535524165577659\n"
     ]
    },
    {
     "data": {
      "image/png": "[encoded data removed]",
      "text/plain": [
       "<Figure size 432x288 with 1 Axes>"
      ]
     },
     "metadata": {
      "needs_background": "light"
     },
     "output_type": "display_data"
    },
    {
     "name": "stdout",
     "output_type": "stream",
     "text": [
      "\n",
      "\tTable 3\n",
      "\n",
      "         deaths  pred\n",
      "899007        0     1\n",
      "1057250       0     0\n",
      "490454        0     0\n",
      "1307121       0     0\n",
      "251263        0     0\n",
      "********************** Evaluation metrics for test dataset **************************\n",
      "\n",
      "('Model roc score:', 55.00000000000001)\n",
      "              precision    recall  f1-score   support\n",
      "\n",
      "           0       0.97      0.99      0.98    370367\n",
      "           1       0.25      0.11      0.15     14540\n",
      "\n",
      "    accuracy                           0.95    384907\n",
      "   macro avg       0.61      0.55      0.56    384907\n",
      "weighted avg       0.94      0.95      0.95    384907\n",
      "\n",
      "matrix \n",
      " AxesSubplot(0.125,0.125;0.62x0.755)\n",
      "('Model roc score:', 55.00000000000001)\n",
      "******************************** confusion matrix *****************************\n",
      "\n",
      "\n"
     ]
    },
    {
     "data": {
      "image/png": "[encoded data removed]",
      "text/plain": [
       "<Figure size 432x288 with 2 Axes>"
      ]
     },
     "metadata": {
      "needs_background": "light"
     },
     "output_type": "display_data"
    },
    {
     "data": {
      "text/html": [
       "<div>\n",
       "<style scoped>\n",
       "    .dataframe tbody tr th:only-of-type {\n",
       "        vertical-align: middle;\n",
       "    }\n",
       "\n",
       "    .dataframe tbody tr th {\n",
       "        vertical-align: top;\n",
       "    }\n",
       "\n",
       "    .dataframe thead th {\n",
       "        text-align: right;\n",
       "    }\n",
       "</style>\n",
       "<table border=\"1\" class=\"dataframe\">\n",
       "  <thead>\n",
       "    <tr style=\"text-align: right;\">\n",
       "      <th></th>\n",
       "      <th>Pred 0(recovered)</th>\n",
       "      <th>Pred 1(deaths)</th>\n",
       "    </tr>\n",
       "  </thead>\n",
       "  <tbody>\n",
       "    <tr>\n",
       "      <th>True 0(recovered)</th>\n",
       "      <td>TN = 365415 (TNR = 98.66%)</td>\n",
       "      <td>FP = 4952 (FPR = 1.34%)</td>\n",
       "    </tr>\n",
       "    <tr>\n",
       "      <th>True 1(deaths)</th>\n",
       "      <td>FN = 12926 (FNR = 88.90%)</td>\n",
       "      <td>TP = 1614 (TPR = 11.10%)</td>\n",
       "    </tr>\n",
       "  </tbody>\n",
       "</table>\n",
       "</div>"
      ],
      "text/plain": [
       "                            Pred 0(recovered)            Pred 1(deaths)\n",
       "True 0(recovered)  TN = 365415 (TNR = 98.66%)   FP = 4952 (FPR = 1.34%)\n",
       "True 1(deaths)      FN = 12926 (FNR = 88.90%)  TP = 1614 (TPR = 11.10%)"
      ]
     },
     "execution_count": 20,
     "metadata": {},
     "output_type": "execute_result"
    },
    {
     "data": {
      "image/png": "[encoded data removed]",
      "text/plain": [
       "<Figure size 432x432 with 1 Axes>"
      ]
     },
     "metadata": {
      "needs_background": "light"
     },
     "output_type": "display_data"
    }
   ],
   "source": [
    "\n",
    "print('Accuracy of test_data: ', accuracy_score(y_test, pred))\n",
    "print('Accuracy of train_data: ', accuracy_score(y_train, pred_train))\n",
    "\n",
    "recall = rs(y_test,pred)\n",
    "precision = ps(y_test,pred)\n",
    "f1 = fs(y_test,pred)\n",
    "ma = knn.score(X_test,y_test)\n",
    "print('*** Evaluation metrics for test dataset ***\\n')\n",
    "print('Recall Score: ',recall)\n",
    "print('Precision Score: ',precision)\n",
    "print('F1 Score: ',f1)\n",
    "print('Accuracy: ',ma)\n",
    "plt.bar(['Accuracy','F1 Score','Recall Score','Precision Score'],[ma,f1,recall,precision],color=['red','green','purple','orange'])\n",
    "plt.plot([ma,f1,recall,precision],color='black')\n",
    "plt.title('Evaluation Metrics for Random Forest Classifier')\n",
    "plt.show()\n",
    "a = pd.DataFrame(y_test)\n",
    "a['pred']= knn.predict(X_test)\n",
    "print('\\n\\tTable 3\\n')\n",
    "print(a.head())\n",
    "\n",
    "def conf_matrix(y_test,pred):\n",
    "    ((tn, fp), (fn, tp)) =metrics.confusion_matrix(y_test, pred)\n",
    "    ((tnr,fpr),(fnr,tpr))= normalize(metrics.confusion_matrix(y_test, pred), axis=1, norm='l1')\n",
    "    return pd.DataFrame([[f'TN = {tn} (TNR = {tnr:1.2%})', \n",
    "                                f'FP = {fp} (FPR = {fpr:1.2%})'], \n",
    "                         [f'FN = {fn} (FNR = {fnr:1.2%})', \n",
    "                                f'TP = {tp} (TPR = {tpr:1.2%})']],\n",
    "            index=['True 0(recovered)', 'True 1(deaths)'], \n",
    "            columns=['Pred 0(recovered)', \n",
    "                            'Pred 1(deaths)'])\n",
    "\n",
    "print('********************** Evaluation metrics for test dataset **************************\\n')\n",
    "print(('Model roc score:',100*roc_auc_score(y_test,pred).round(2)))\n",
    "print(classification_report(y_test, pred))\n",
    "cnf_matrix=confusion_matrix(y_test, pred)\n",
    "\n",
    "\n",
    "cm_matrix = pd.DataFrame(data=cnf_matrix, columns=['predict Negative:0', 'predict Positive:1'], \n",
    "                            index=['Actual  Negative:0', 'Actual Positive:1'])\n",
    "print('matrix \\n',sns.heatmap(cm_matrix, annot=True, fmt='d', cmap='YlGnBu'))\n",
    "# feature_scores = pd.Series(knn.feature_importances_, index=X_train.columns).sort_values(ascending=False)\n",
    "# print('********************************* feature importances**************************\\n\\n')\n",
    "# print('feature_importances:  \\n',feature_scores)\n",
    "\n",
    "print(('Model roc score:',100*roc_auc_score(y_test,pred).round(2)))\n",
    "\n",
    "print('******************************** confusion matrix *****************************\\n\\n')\n",
    "plt.show()\n",
    "fig, ax = plt.subplots(figsize = (6,6))\n",
    "probs = knn.predict_proba(X_test)\n",
    "preds = probs[:,1]\n",
    "fprrfc, tprrfc, thresholdrfc = metrics.roc_curve(y_test, preds)\n",
    "roc_aucrfc = metrics.auc(fprrfc, tprrfc)\n",
    "\n",
    "ax.plot(fprrfc, tprrfc, 'b', label = 'AUC = %0.2f' % roc_aucrfc)\n",
    "ax.plot([0, 1], [0, 1],'r--')\n",
    "ax.set_title('Receiver Operating Characteristic Random Forest ',fontsize=20)\n",
    "ax.set_ylabel('True Positive Rate',fontsize=20)\n",
    "ax.set_xlabel('False Positive Rate',fontsize=15)\n",
    "ax.legend(loc = 'lower right', prop={'size': 16})\n",
    "plt.subplots_adjust(wspace=1)\n",
    "conf_matrix(y_test,pred)"
   ]
  },
  {
   "cell_type": "markdown",
   "metadata": {},
   "source": [
    "# Die Ergebnisse:\n",
    "    1) KNeighborsClassifier hat die Minderheitsklasse(Anzahl der gestorbenen Personen) nicht gut vorhergesagt (Siehe Confusion Matrix)\n",
    "    2) Der mögliche Grund dafür:\n",
    "        Der untersuchten Trainingsdatensatz ist Imbalnced:\n",
    "        Anzahl der genesenen Fälle ist: 1.482.502                                                      \n",
    "        Anzahl der Todesfälle ist: 57.123   "
   ]
  },
  {
   "cell_type": "markdown",
   "metadata": {},
   "source": [
    "# Die Lösungen:\n",
    "    1) Nutzung der Resampling-Methode \n",
    "       from imblearn.under_sampling import RandomUnderSampler, NearMiss\n",
    "       from imblearn.over_sampling import RandomOverSampler, SMOTE\n",
    "    2) Nutzung von Kfold-Methode (Nutzung von RandomizedSearch)\n",
    "       from sklearn.model_selection import KFold, StratifiedKFold\n",
    "    3) Änderung der Parameter des Algorithmus (Nutzung der Funktion GridSearchCV, \n",
    "                                               um der Parameter des bestes Modul zu identifizieren)\n",
    "       from sklearn.model_selection import GridSearchCV\n",
    "    4) Verwendung andere Algorithmus\n",
    "    "
   ]
  },
  {
   "cell_type": "markdown",
   "metadata": {},
   "source": [
    "# Nutzung von RandomizedSearch, um die beste K-Parameter zu identifizieren (K: Anzahl der Nachbaren. (default K = 5)"
   ]
  },
  {
   "cell_type": "code",
   "execution_count": 62,
   "metadata": {},
   "outputs": [
    {
     "name": "stdout",
     "output_type": "stream",
     "text": [
      "train score- 0.9631243299229769\n",
      "train score- 0.9622246412769838\n"
     ]
    }
   ],
   "source": [
    "from sklearn.model_selection import RandomizedSearchCV\n",
    "from sklearn.neighbors import KNeighborsClassifier\n",
    "knn=KNeighborsClassifier()\n",
    "k=np.random.randint(1,50,60)\n",
    "params= {'n_neighbors': k}\n",
    "random_search= RandomizedSearchCV(knn, params, n_iter=5, cv=5, n_jobs=-1, verbose=0)\n",
    "random_search.fit(X_train, y_train)\n",
    "print(\"train score- \"+ str(random_search.score(X_train,y_train)))\n",
    "print(\"train score- \"+ str(random_search.score(X_test,y_test)))"
   ]
  },
  {
   "cell_type": "code",
   "execution_count": 63,
   "metadata": {},
   "outputs": [
    {
     "name": "stdout",
     "output_type": "stream",
     "text": [
      "{'n_neighbors': 48}\n"
     ]
    }
   ],
   "source": [
    "print(random_search.best_params_)"
   ]
  },
  {
   "cell_type": "code",
   "execution_count": 64,
   "metadata": {},
   "outputs": [
    {
     "name": "stdout",
     "output_type": "stream",
     "text": [
      "\n",
      " memory before (Byte):  1394126848 \n",
      " memory after (Byte): 1461530624 \n",
      " used_memory (Byte): 67403776 \n",
      " time (Sekunde): 43.067253828048706\n"
     ]
    }
   ],
   "source": [
    "import time\n",
    "import os\n",
    "import psutil\n",
    " \n",
    "def get_process_memory():\n",
    "    process = psutil.Process(os.getpid())\n",
    "    mem_info = process.memory_info()\n",
    "    return mem_info.rss\n",
    "\n",
    "mem_before=get_process_memory()\n",
    "start=time.time()\n",
    "knn= KNeighborsClassifier(n_neighbors=48).fit(X_train, y_train)\n",
    "finish=time.time()- start\n",
    "mem_after= get_process_memory()\n",
    "print(\"\\n\",\"memory before (Byte): \",mem_before,\"\\n\",\"memory after (Byte):\", mem_after ,\"\\n\", \"used_memory (Byte):\",mem_after - mem_before,\"\\n\",\n",
    "        \"time (Sekunde):\", finish)\n"
   ]
  },
  {
   "cell_type": "code",
   "execution_count": 65,
   "metadata": {},
   "outputs": [
    {
     "name": "stdout",
     "output_type": "stream",
     "text": [
      "\n",
      " memory before (Byte):  1461534720 \n",
      " memory after (Byte): 1470775296 \n",
      " used_memory (Byte): 9240576 \n",
      " time (Sekunde): 191.0539083480835\n"
     ]
    }
   ],
   "source": [
    "import time\n",
    "import os\n",
    "import psutil\n",
    " \n",
    "def get_process_memory():\n",
    "    process = psutil.Process(os.getpid())\n",
    "    mem_info = process.memory_info()\n",
    "    return mem_info.rss\n",
    "\n",
    "mem_before=get_process_memory()\n",
    "start=time.time()\n",
    "\n",
    "pred = np.array(knn.predict(X_test))\n",
    "pred_train = np.array(knn.predict(X_train))\n",
    "\n",
    "finish=time.time()- start\n",
    "mem_after= get_process_memory()\n",
    "print(\"\\n\",\"memory before (Byte): \",mem_before,\"\\n\",\"memory after (Byte):\", mem_after ,\"\\n\", \"used_memory (Byte):\",mem_after - mem_before,\"\\n\",\n",
    "        \"time (Sekunde):\", finish)"
   ]
  },
  {
   "cell_type": "code",
   "execution_count": 66,
   "metadata": {},
   "outputs": [
    {
     "name": "stdout",
     "output_type": "stream",
     "text": [
      "Accuracy of test_data:  0.9622246412769838\n",
      "Accuracy of train_data:  0.9631243299229769\n",
      "*** Evaluation metrics for test dataset ***\n",
      "\n",
      "Recall Score:  0.000343878954607978\n",
      "Precision Score:  0.5\n",
      "F1 Score:  0.0006872852233676976\n",
      "Accuracy:  0.9622246412769838\n"
     ]
    },
    {
     "data": {
      "image/png": "[encoded data removed]",
      "text/plain": [
       "<Figure size 432x288 with 1 Axes>"
      ]
     },
     "metadata": {
      "needs_background": "light"
     },
     "output_type": "display_data"
    },
    {
     "name": "stdout",
     "output_type": "stream",
     "text": [
      "\n",
      "\tTable 3\n",
      "\n",
      "         deaths  pred\n",
      "899007        0     0\n",
      "1057250       0     0\n",
      "490454        0     0\n",
      "1307121       0     0\n",
      "251263        0     0\n",
      "********************** Evaluation metrics for test dataset **************************\n",
      "\n",
      "('Model roc score:', 50.0)\n",
      "              precision    recall  f1-score   support\n",
      "\n",
      "           0       0.96      1.00      0.98    370367\n",
      "           1       0.50      0.00      0.00     14540\n",
      "\n",
      "    accuracy                           0.96    384907\n",
      "   macro avg       0.73      0.50      0.49    384907\n",
      "weighted avg       0.94      0.96      0.94    384907\n",
      "\n",
      "matrix \n",
      " AxesSubplot(0.125,0.125;0.62x0.755)\n",
      "('Model roc score:', 50.0)\n",
      "******************************** confusion matrix *****************************\n",
      "\n",
      "\n"
     ]
    },
    {
     "data": {
      "image/png": "[encoded data removed]",
      "text/plain": [
       "<Figure size 432x288 with 2 Axes>"
      ]
     },
     "metadata": {
      "needs_background": "light"
     },
     "output_type": "display_data"
    },
    {
     "data": {
      "text/html": [
       "<div>\n",
       "<style scoped>\n",
       "    .dataframe tbody tr th:only-of-type {\n",
       "        vertical-align: middle;\n",
       "    }\n",
       "\n",
       "    .dataframe tbody tr th {\n",
       "        vertical-align: top;\n",
       "    }\n",
       "\n",
       "    .dataframe thead th {\n",
       "        text-align: right;\n",
       "    }\n",
       "</style>\n",
       "<table border=\"1\" class=\"dataframe\">\n",
       "  <thead>\n",
       "    <tr style=\"text-align: right;\">\n",
       "      <th></th>\n",
       "      <th>Pred 0(recovered)</th>\n",
       "      <th>Pred 1(deaths)</th>\n",
       "    </tr>\n",
       "  </thead>\n",
       "  <tbody>\n",
       "    <tr>\n",
       "      <th>True 0(recovered)</th>\n",
       "      <td>TN = 370362 (TNR = 100.00%)</td>\n",
       "      <td>FP = 5 (FPR = 0.00%)</td>\n",
       "    </tr>\n",
       "    <tr>\n",
       "      <th>True 1(deaths)</th>\n",
       "      <td>FN = 14535 (FNR = 99.97%)</td>\n",
       "      <td>TP = 5 (TPR = 0.03%)</td>\n",
       "    </tr>\n",
       "  </tbody>\n",
       "</table>\n",
       "</div>"
      ],
      "text/plain": [
       "                             Pred 0(recovered)        Pred 1(deaths)\n",
       "True 0(recovered)  TN = 370362 (TNR = 100.00%)  FP = 5 (FPR = 0.00%)\n",
       "True 1(deaths)       FN = 14535 (FNR = 99.97%)  TP = 5 (TPR = 0.03%)"
      ]
     },
     "execution_count": 66,
     "metadata": {},
     "output_type": "execute_result"
    },
    {
     "data": {
      "image/png": "[encoded data removed]",
      "text/plain": [
       "<Figure size 432x432 with 1 Axes>"
      ]
     },
     "metadata": {
      "needs_background": "light"
     },
     "output_type": "display_data"
    }
   ],
   "source": [
    "\n",
    "print('Accuracy of test_data: ', accuracy_score(y_test, pred))\n",
    "print('Accuracy of train_data: ', accuracy_score(y_train, pred_train))\n",
    "\n",
    "recall = rs(y_test,pred)\n",
    "precision = ps(y_test,pred)\n",
    "f1 = fs(y_test,pred)\n",
    "ma = knn.score(X_test,y_test)\n",
    "print('*** Evaluation metrics for test dataset ***\\n')\n",
    "print('Recall Score: ',recall)\n",
    "print('Precision Score: ',precision)\n",
    "print('F1 Score: ',f1)\n",
    "print('Accuracy: ',ma)\n",
    "plt.bar(['Accuracy','F1 Score','Recall Score','Precision Score'],[ma,f1,recall,precision],color=['red','green','purple','orange'])\n",
    "plt.plot([ma,f1,recall,precision],color='black')\n",
    "plt.title('Evaluation Metrics for Random Forest Classifier')\n",
    "plt.show()\n",
    "a = pd.DataFrame(y_test)\n",
    "a['pred']= knn.predict(X_test)\n",
    "print('\\n\\tTable 3\\n')\n",
    "print(a.head())\n",
    "\n",
    "def conf_matrix(y_test,pred):\n",
    "    ((tn, fp), (fn, tp)) =metrics.confusion_matrix(y_test, pred)\n",
    "    ((tnr,fpr),(fnr,tpr))= normalize(metrics.confusion_matrix(y_test, pred), axis=1, norm='l1')\n",
    "    return pd.DataFrame([[f'TN = {tn} (TNR = {tnr:1.2%})', \n",
    "                                f'FP = {fp} (FPR = {fpr:1.2%})'], \n",
    "                         [f'FN = {fn} (FNR = {fnr:1.2%})', \n",
    "                                f'TP = {tp} (TPR = {tpr:1.2%})']],\n",
    "            index=['True 0(recovered)', 'True 1(deaths)'], \n",
    "            columns=['Pred 0(recovered)', \n",
    "                            'Pred 1(deaths)'])\n",
    "\n",
    "print('********************** Evaluation metrics for test dataset **************************\\n')\n",
    "print(('Model roc score:',100*roc_auc_score(y_test,pred).round(2)))\n",
    "print(classification_report(y_test, pred))\n",
    "cnf_matrix=confusion_matrix(y_test, pred)\n",
    "\n",
    "\n",
    "cm_matrix = pd.DataFrame(data=cnf_matrix, columns=['predict Negative:0', 'predict Positive:1'], \n",
    "                            index=['Actual  Negative:0', 'Actual Positive:1'])\n",
    "print('matrix \\n',sns.heatmap(cm_matrix, annot=True, fmt='d', cmap='YlGnBu'))\n",
    "# feature_scores = pd.Series(knn.feature_importances_, index=X_train.columns).sort_values(ascending=False)\n",
    "# print('********************************* feature importances**************************\\n\\n')\n",
    "# print('feature_importances:  \\n',feature_scores)\n",
    "\n",
    "print(('Model roc score:',100*roc_auc_score(y_test,pred).round(2)))\n",
    "\n",
    "print('******************************** confusion matrix *****************************\\n\\n')\n",
    "plt.show()\n",
    "fig, ax = plt.subplots(figsize = (6,6))\n",
    "probs = knn.predict_proba(X_test)\n",
    "preds = probs[:,1]\n",
    "fprrfc, tprrfc, thresholdrfc = metrics.roc_curve(y_test, preds)\n",
    "roc_aucrfc = metrics.auc(fprrfc, tprrfc)\n",
    "\n",
    "ax.plot(fprrfc, tprrfc, 'b', label = 'AUC = %0.2f' % roc_aucrfc)\n",
    "ax.plot([0, 1], [0, 1],'r--')\n",
    "ax.set_title('Receiver Operating Characteristic Random Forest ',fontsize=20)\n",
    "ax.set_ylabel('True Positive Rate',fontsize=20)\n",
    "ax.set_xlabel('False Positive Rate',fontsize=15)\n",
    "ax.legend(loc = 'lower right', prop={'size': 16})\n",
    "plt.subplots_adjust(wspace=1)\n",
    "conf_matrix(y_test,pred)"
   ]
  },
  {
   "cell_type": "markdown",
   "metadata": {},
   "source": [
    "# RandomUnderSampler"
   ]
  },
  {
   "cell_type": "code",
   "execution_count": 69,
   "metadata": {},
   "outputs": [],
   "source": [
    "rus =RandomUnderSampler()\n",
    "knn= KNeighborsClassifier(n_neighbors=48)\n",
    "y = df.deaths\n",
    "X = df.drop(['deaths'],axis=1)\n",
    "X_train_input, X_test_input, y_train, y_test = train_test_split(X, y, test_size=0.25, random_state=42)\n",
    "X_test=X_test_input.drop(['state','county','date','gender','cases', 'recovered'], axis=1)\n",
    "X_train=X_train_input.drop(['state','county','date','gender','cases', 'recovered'], axis=1)"
   ]
  },
  {
   "cell_type": "code",
   "execution_count": 70,
   "metadata": {},
   "outputs": [
    {
     "name": "stdout",
     "output_type": "stream",
     "text": [
      "\n",
      " memory before (Byte):  1477992448 \n",
      " memory after (Byte): 1470054400 \n",
      " used_memory (Byte): -7938048 \n",
      " time (Sekunde): 0.4338414669036865\n"
     ]
    }
   ],
   "source": [
    "import time\n",
    "import os\n",
    "import psutil\n",
    " \n",
    "def get_process_memory():\n",
    "    process = psutil.Process(os.getpid())\n",
    "    mem_info = process.memory_info()\n",
    "    return mem_info.rss\n",
    "\n",
    "mem_before=get_process_memory()\n",
    "start=time.time()\n",
    "X_train_rus, y_train_rus = rus.fit_sample(X_train, y_train)\n",
    "finish=time.time()- start\n",
    "mem_after= get_process_memory()\n",
    "print(\"\\n\",\"memory before (Byte): \",mem_before,\"\\n\",\"memory after (Byte):\", mem_after ,\"\\n\", \"used_memory (Byte):\",mem_after - mem_before,\"\\n\",\n",
    "        \"time (Sekunde):\", finish)"
   ]
  },
  {
   "cell_type": "code",
   "execution_count": 71,
   "metadata": {},
   "outputs": [
    {
     "name": "stdout",
     "output_type": "stream",
     "text": [
      "\n",
      " memory before (Byte):  1470058496 \n",
      " memory after (Byte): 1477136384 \n",
      " used_memory (Byte): 7077888 \n",
      " time (Sekunde): 0.32117509841918945\n"
     ]
    }
   ],
   "source": [
    "import time\n",
    "import os\n",
    "import psutil\n",
    " \n",
    "def get_process_memory():\n",
    "    process = psutil.Process(os.getpid())\n",
    "    mem_info = process.memory_info()\n",
    "    return mem_info.rss\n",
    "\n",
    "mem_before=get_process_memory()\n",
    "start=time.time()\n",
    "knn.fit(X_train_rus, y_train_rus)\n",
    "finish=time.time()- start\n",
    "mem_after= get_process_memory()\n",
    "print(\"\\n\",\"memory before (Byte): \",mem_before,\"\\n\",\"memory after (Byte):\", mem_after ,\"\\n\", \"used_memory (Byte):\",mem_after - mem_before,\"\\n\",\n",
    "        \"time (Sekunde):\", finish)"
   ]
  },
  {
   "cell_type": "code",
   "execution_count": 72,
   "metadata": {},
   "outputs": [
    {
     "name": "stdout",
     "output_type": "stream",
     "text": [
      "Accuracy of test_data:  0.689007994138844\n",
      "Accuracy of train_data:  0.7187844914637297\n",
      "Recall: 0.698\n",
      "********************** Evaluation metrics for test dataset **************************\n",
      "\n",
      "('Model roc score:', 69.0)\n",
      "              precision    recall  f1-score   support\n",
      "\n",
      "           0       0.98      0.69      0.81    370367\n",
      "           1       0.08      0.70      0.14     14540\n",
      "\n",
      "    accuracy                           0.69    384907\n",
      "   macro avg       0.53      0.69      0.48    384907\n",
      "weighted avg       0.95      0.69      0.78    384907\n",
      "\n",
      "Recall Score:  0.6980055020632737\n",
      "Precision Score:  0.08089366416655375\n",
      "F1 Score:  0.14498467868086656\n",
      "Accuracy:  0.689007994138844\n"
     ]
    },
    {
     "data": {
      "image/png": "[encoded data removed]",
      "text/plain": [
       "<Figure size 432x288 with 1 Axes>"
      ]
     },
     "metadata": {
      "needs_background": "light"
     },
     "output_type": "display_data"
    },
    {
     "name": "stdout",
     "output_type": "stream",
     "text": [
      "\n",
      "\tTable 3\n",
      "\n",
      "         deaths  pred\n",
      "899007        0     0\n",
      "1057250       0     1\n",
      "490454        0     1\n",
      "1307121       0     1\n",
      "251263        0     0\n",
      "matrix \n",
      " AxesSubplot(0.125,0.125;0.62x0.755)\n",
      "******************************** confusion matrix *****************************\n",
      "\n",
      "\n"
     ]
    },
    {
     "data": {
      "image/png": "[encoded data removed]",
      "text/plain": [
       "<Figure size 432x288 with 2 Axes>"
      ]
     },
     "metadata": {
      "needs_background": "light"
     },
     "output_type": "display_data"
    },
    {
     "data": {
      "text/html": [
       "<div>\n",
       "<style scoped>\n",
       "    .dataframe tbody tr th:only-of-type {\n",
       "        vertical-align: middle;\n",
       "    }\n",
       "\n",
       "    .dataframe tbody tr th {\n",
       "        vertical-align: top;\n",
       "    }\n",
       "\n",
       "    .dataframe thead th {\n",
       "        text-align: right;\n",
       "    }\n",
       "</style>\n",
       "<table border=\"1\" class=\"dataframe\">\n",
       "  <thead>\n",
       "    <tr style=\"text-align: right;\">\n",
       "      <th></th>\n",
       "      <th>Pred 0(recovered)</th>\n",
       "      <th>Pred 1(deaths)</th>\n",
       "    </tr>\n",
       "  </thead>\n",
       "  <tbody>\n",
       "    <tr>\n",
       "      <th>True 0(recovered)</th>\n",
       "      <td>TN = 255055 (TNR = 68.87%)</td>\n",
       "      <td>FP = 115312 (FPR = 31.13%)</td>\n",
       "    </tr>\n",
       "    <tr>\n",
       "      <th>True 1(deaths)</th>\n",
       "      <td>FN = 4391 (FNR = 30.20%)</td>\n",
       "      <td>TP = 10149 (TPR = 69.80%)</td>\n",
       "    </tr>\n",
       "  </tbody>\n",
       "</table>\n",
       "</div>"
      ],
      "text/plain": [
       "                            Pred 0(recovered)              Pred 1(deaths)\n",
       "True 0(recovered)  TN = 255055 (TNR = 68.87%)  FP = 115312 (FPR = 31.13%)\n",
       "True 1(deaths)       FN = 4391 (FNR = 30.20%)   TP = 10149 (TPR = 69.80%)"
      ]
     },
     "execution_count": 72,
     "metadata": {},
     "output_type": "execute_result"
    },
    {
     "data": {
      "image/png": "[encoded data removed]",
      "text/plain": [
       "<Figure size 432x432 with 1 Axes>"
      ]
     },
     "metadata": {
      "needs_background": "light"
     },
     "output_type": "display_data"
    }
   ],
   "source": [
    "pred = np.array(knn.predict(X_test))\n",
    "pred_train = np.array(knn.predict(X_train_rus))\n",
    "print('Accuracy of test_data: ', accuracy_score(y_test, pred))\n",
    "print('Accuracy of train_data: ', accuracy_score(y_train_rus, pred_train))\n",
    "print(\"Recall: {0:.3f}\".format(recall_score(y_test, pred)))\n",
    "\n",
    "print('********************** Evaluation metrics for test dataset **************************\\n')\n",
    "print(('Model roc score:',100*roc_auc_score(y_test,pred).round(2)))\n",
    "print(classification_report(y_test, pred))\n",
    "cnf_matrix=confusion_matrix(y_test, pred)\n",
    "\n",
    "pred = np.array(knn.predict(X_test))\n",
    "recall = rs(y_test,pred)\n",
    "precision = ps(y_test,pred)\n",
    "f1 = fs(y_test,pred)\n",
    "ma = knn.score(X_test,y_test)\n",
    "print('Recall Score: ',recall)\n",
    "print('Precision Score: ',precision)\n",
    "print('F1 Score: ',f1)\n",
    "print('Accuracy: ',ma)\n",
    "plt.bar(['Accuracy','F1 Score','Recall Score','Precision Score'],[ma,f1,recall,precision],color=['red','green','purple','orange'])\n",
    "plt.plot([ma,f1,recall,precision],color='black')\n",
    "plt.title('Evaluation Metrics for Random Forest Classifier')\n",
    "plt.show()\n",
    "a = pd.DataFrame(y_test)\n",
    "a['pred']= knn.predict(X_test)\n",
    "print('\\n\\tTable 3\\n')\n",
    "print(a.head())\n",
    "\n",
    "def conf_matrix(y_test,pred):\n",
    "    ((tn, fp), (fn, tp)) =metrics.confusion_matrix(y_test, pred)\n",
    "    ((tnr,fpr),(fnr,tpr))= normalize(metrics.confusion_matrix(y_test, pred), axis=1, norm='l1')\n",
    "    return pd.DataFrame([[f'TN = {tn} (TNR = {tnr:1.2%})', \n",
    "                                f'FP = {fp} (FPR = {fpr:1.2%})'], \n",
    "                         [f'FN = {fn} (FNR = {fnr:1.2%})', \n",
    "                                f'TP = {tp} (TPR = {tpr:1.2%})']],\n",
    "            index=['True 0(recovered)', 'True 1(deaths)'], \n",
    "            columns=['Pred 0(recovered)', \n",
    "                            'Pred 1(deaths)'])\n",
    "\n",
    "\n",
    "cm_matrix = pd.DataFrame(data=cnf_matrix, columns=['predict Negative:0', 'predict Positive:1'], \n",
    "                            index=['Actual  Negative:0', 'Actual Positive:1'])\n",
    "print('matrix \\n',sns.heatmap(cm_matrix, annot=True, fmt='d', cmap='YlGnBu'))\n",
    "# feature_scores = pd.Series(rfc.feature_importances_, index=X_train.columns).sort_values(ascending=False)\n",
    "# print('********************************* feature importances**************************\\n\\n')\n",
    "# print('feature_importances:  \\n',feature_scores)\n",
    "print('******************************** confusion matrix *****************************\\n\\n')\n",
    "plt.show()\n",
    "\n",
    "fig, ax = plt.subplots(figsize = (6,6))\n",
    "probs = knn.predict_proba(X_test)\n",
    "preds = probs[:,1]\n",
    "fprrfc, tprrfc, thresholdrfc = metrics.roc_curve(y_test, preds)\n",
    "roc_aucrfc = metrics.auc(fprrfc, tprrfc)\n",
    "ax.plot(fprrfc, tprrfc, 'b', label = 'AUC = %0.2f' % roc_aucrfc)\n",
    "ax.plot([0, 1], [0, 1],'r--')\n",
    "ax.set_title('Receiver Operating Characteristic Random Forest ',fontsize=20)\n",
    "ax.set_ylabel('True Positive Rate',fontsize=20)\n",
    "ax.set_xlabel('False Positive Rate',fontsize=15)\n",
    "ax.legend(loc = 'lower right', prop={'size': 16})\n",
    "plt.subplots_adjust(wspace=1)\n",
    "\n",
    "conf_matrix(y_test,pred)"
   ]
  },
  {
   "cell_type": "markdown",
   "metadata": {},
   "source": [
    "# Bewerung der Ergebnisse mit RandomUnderSampling:\n",
    "    1) Minderheitsklasse (Anzahl der Todesfälle) wird mit 69.80 % richtig (True Positve) vorhergesagt\n",
    "    2) False Negative Rate ist 30.20 % \n",
    "    "
   ]
  },
  {
   "cell_type": "code",
   "execution_count": 87,
   "metadata": {},
   "outputs": [],
   "source": [
    "rus =RandomUnderSampler()\n",
    "knn= KNeighborsClassifier(n_neighbors=1)\n",
    "y = df.deaths\n",
    "X = df.drop(['deaths'],axis=1)\n",
    "X_train_input, X_test_input, y_train, y_test = train_test_split(X, y, test_size=0.25, random_state=42)\n",
    "X_test=X_test_input.drop(['state','county','date','gender','cases', 'recovered'], axis=1)\n",
    "X_train=X_train_input.drop(['state','county','date','gender','cases', 'recovered'], axis=1)"
   ]
  },
  {
   "cell_type": "code",
   "execution_count": 88,
   "metadata": {},
   "outputs": [
    {
     "name": "stdout",
     "output_type": "stream",
     "text": [
      "\n",
      " memory before (Byte):  1158107136 \n",
      " memory after (Byte): 1155620864 \n",
      " used_memory (Byte): -2486272 \n",
      " time (Sekunde): 0.4118955135345459\n"
     ]
    }
   ],
   "source": [
    "import time\n",
    "import os\n",
    "import psutil\n",
    " \n",
    "def get_process_memory():\n",
    "    process = psutil.Process(os.getpid())\n",
    "    mem_info = process.memory_info()\n",
    "    return mem_info.rss\n",
    "\n",
    "mem_before=get_process_memory()\n",
    "start=time.time()\n",
    "X_train_rus, y_train_rus = rus.fit_sample(X_train, y_train)\n",
    "finish=time.time()- start\n",
    "mem_after= get_process_memory()\n",
    "print(\"\\n\",\"memory before (Byte): \",mem_before,\"\\n\",\"memory after (Byte):\", mem_after ,\"\\n\", \"used_memory (Byte):\",mem_after - mem_before,\"\\n\",\n",
    "        \"time (Sekunde):\", finish)"
   ]
  },
  {
   "cell_type": "code",
   "execution_count": 89,
   "metadata": {},
   "outputs": [
    {
     "name": "stdout",
     "output_type": "stream",
     "text": [
      "\n",
      " memory before (Byte):  1155629056 \n",
      " memory after (Byte): 1163141120 \n",
      " used_memory (Byte): 7512064 \n",
      " time (Sekunde): 0.3231697082519531\n"
     ]
    }
   ],
   "source": [
    "import time\n",
    "import os\n",
    "import psutil\n",
    " \n",
    "def get_process_memory():\n",
    "    process = psutil.Process(os.getpid())\n",
    "    mem_info = process.memory_info()\n",
    "    return mem_info.rss\n",
    "\n",
    "mem_before=get_process_memory()\n",
    "start=time.time()\n",
    "knn.fit(X_train_rus, y_train_rus)\n",
    "finish=time.time()- start\n",
    "mem_after= get_process_memory()\n",
    "print(\"\\n\",\"memory before (Byte): \",mem_before,\"\\n\",\"memory after (Byte):\", mem_after ,\"\\n\", \"used_memory (Byte):\",mem_after - mem_before,\"\\n\",\n",
    "        \"time (Sekunde):\", finish)"
   ]
  },
  {
   "cell_type": "code",
   "execution_count": 90,
   "metadata": {},
   "outputs": [
    {
     "name": "stdout",
     "output_type": "stream",
     "text": [
      "Accuracy of test_data:  0.7630362659031922\n",
      "Accuracy of train_data:  0.9357842331446822\n",
      "Recall: 0.774\n",
      "********************** Evaluation metrics for test dataset **************************\n",
      "\n",
      "('Model roc score:', 77.0)\n",
      "              precision    recall  f1-score   support\n",
      "\n",
      "           0       0.99      0.76      0.86    370367\n",
      "           1       0.11      0.77      0.20     14540\n",
      "\n",
      "    accuracy                           0.76    384907\n",
      "   macro avg       0.55      0.77      0.53    384907\n",
      "weighted avg       0.96      0.76      0.84    384907\n",
      "\n",
      "Recall Score:  0.7742778541953232\n",
      "Precision Score:  0.11350506629026566\n",
      "F1 Score:  0.19798637063090788\n",
      "Accuracy:  0.7630362659031922\n"
     ]
    },
    {
     "data": {
      "image/png": "[encoded data removed]",
      "text/plain": [
       "<Figure size 432x288 with 1 Axes>"
      ]
     },
     "metadata": {
      "needs_background": "light"
     },
     "output_type": "display_data"
    },
    {
     "name": "stdout",
     "output_type": "stream",
     "text": [
      "\n",
      "\tTable 3\n",
      "\n",
      "         deaths  pred\n",
      "899007        0     1\n",
      "1057250       0     0\n",
      "490454        0     1\n",
      "1307121       0     1\n",
      "251263        0     0\n",
      "matrix \n",
      " AxesSubplot(0.125,0.125;0.62x0.755)\n",
      "******************************** confusion matrix *****************************\n",
      "\n",
      "\n"
     ]
    },
    {
     "data": {
      "image/png": "[encoded data removed]",
      "text/plain": [
       "<Figure size 432x288 with 2 Axes>"
      ]
     },
     "metadata": {
      "needs_background": "light"
     },
     "output_type": "display_data"
    },
    {
     "data": {
      "text/html": [
       "<div>\n",
       "<style scoped>\n",
       "    .dataframe tbody tr th:only-of-type {\n",
       "        vertical-align: middle;\n",
       "    }\n",
       "\n",
       "    .dataframe tbody tr th {\n",
       "        vertical-align: top;\n",
       "    }\n",
       "\n",
       "    .dataframe thead th {\n",
       "        text-align: right;\n",
       "    }\n",
       "</style>\n",
       "<table border=\"1\" class=\"dataframe\">\n",
       "  <thead>\n",
       "    <tr style=\"text-align: right;\">\n",
       "      <th></th>\n",
       "      <th>Pred 0(recovered)</th>\n",
       "      <th>Pred 1(deaths)</th>\n",
       "    </tr>\n",
       "  </thead>\n",
       "  <tbody>\n",
       "    <tr>\n",
       "      <th>True 0(recovered)</th>\n",
       "      <td>TN = 282440 (TNR = 76.26%)</td>\n",
       "      <td>FP = 87927 (FPR = 23.74%)</td>\n",
       "    </tr>\n",
       "    <tr>\n",
       "      <th>True 1(deaths)</th>\n",
       "      <td>FN = 3282 (FNR = 22.57%)</td>\n",
       "      <td>TP = 11258 (TPR = 77.43%)</td>\n",
       "    </tr>\n",
       "  </tbody>\n",
       "</table>\n",
       "</div>"
      ],
      "text/plain": [
       "                            Pred 0(recovered)             Pred 1(deaths)\n",
       "True 0(recovered)  TN = 282440 (TNR = 76.26%)  FP = 87927 (FPR = 23.74%)\n",
       "True 1(deaths)       FN = 3282 (FNR = 22.57%)  TP = 11258 (TPR = 77.43%)"
      ]
     },
     "execution_count": 90,
     "metadata": {},
     "output_type": "execute_result"
    },
    {
     "data": {
      "image/png": "[encoded data removed]",
      "text/plain": [
       "<Figure size 432x432 with 1 Axes>"
      ]
     },
     "metadata": {
      "needs_background": "light"
     },
     "output_type": "display_data"
    }
   ],
   "source": [
    "pred = np.array(knn.predict(X_test))\n",
    "pred_train = np.array(knn.predict(X_train_rus))\n",
    "print('Accuracy of test_data: ', accuracy_score(y_test, pred))\n",
    "print('Accuracy of train_data: ', accuracy_score(y_train_rus, pred_train))\n",
    "print(\"Recall: {0:.3f}\".format(recall_score(y_test, pred)))\n",
    "\n",
    "print('********************** Evaluation metrics for test dataset **************************\\n')\n",
    "print(('Model roc score:',100*roc_auc_score(y_test,pred).round(2)))\n",
    "print(classification_report(y_test, pred))\n",
    "cnf_matrix=confusion_matrix(y_test, pred)\n",
    "\n",
    "pred = np.array(knn.predict(X_test))\n",
    "recall = rs(y_test,pred)\n",
    "precision = ps(y_test,pred)\n",
    "f1 = fs(y_test,pred)\n",
    "ma = knn.score(X_test,y_test)\n",
    "print('Recall Score: ',recall)\n",
    "print('Precision Score: ',precision)\n",
    "print('F1 Score: ',f1)\n",
    "print('Accuracy: ',ma)\n",
    "plt.bar(['Accuracy','F1 Score','Recall Score','Precision Score'],[ma,f1,recall,precision],color=['red','green','purple','orange'])\n",
    "plt.plot([ma,f1,recall,precision],color='black')\n",
    "plt.title('Evaluation Metrics for Random Forest Classifier')\n",
    "plt.show()\n",
    "a = pd.DataFrame(y_test)\n",
    "a['pred']= knn.predict(X_test)\n",
    "print('\\n\\tTable 3\\n')\n",
    "print(a.head())\n",
    "\n",
    "def conf_matrix(y_test,pred):\n",
    "    ((tn, fp), (fn, tp)) =metrics.confusion_matrix(y_test, pred)\n",
    "    ((tnr,fpr),(fnr,tpr))= normalize(metrics.confusion_matrix(y_test, pred), axis=1, norm='l1')\n",
    "    return pd.DataFrame([[f'TN = {tn} (TNR = {tnr:1.2%})', \n",
    "                                f'FP = {fp} (FPR = {fpr:1.2%})'], \n",
    "                         [f'FN = {fn} (FNR = {fnr:1.2%})', \n",
    "                                f'TP = {tp} (TPR = {tpr:1.2%})']],\n",
    "            index=['True 0(recovered)', 'True 1(deaths)'], \n",
    "            columns=['Pred 0(recovered)', \n",
    "                            'Pred 1(deaths)'])\n",
    "\n",
    "\n",
    "cm_matrix = pd.DataFrame(data=cnf_matrix, columns=['predict Negative:0', 'predict Positive:1'], \n",
    "                            index=['Actual  Negative:0', 'Actual Positive:1'])\n",
    "print('matrix \\n',sns.heatmap(cm_matrix, annot=True, fmt='d', cmap='YlGnBu'))\n",
    "# feature_scores = pd.Series(rfc.feature_importances_, index=X_train.columns).sort_values(ascending=False)\n",
    "# print('********************************* feature importances**************************\\n\\n')\n",
    "# print('feature_importances:  \\n',feature_scores)\n",
    "print('******************************** confusion matrix *****************************\\n\\n')\n",
    "plt.show()\n",
    "\n",
    "fig, ax = plt.subplots(figsize = (6,6))\n",
    "probs = knn.predict_proba(X_test)\n",
    "preds = probs[:,1]\n",
    "fprrfc, tprrfc, thresholdrfc = metrics.roc_curve(y_test, preds)\n",
    "roc_aucrfc = metrics.auc(fprrfc, tprrfc)\n",
    "ax.plot(fprrfc, tprrfc, 'b', label = 'AUC = %0.2f' % roc_aucrfc)\n",
    "ax.plot([0, 1], [0, 1],'r--')\n",
    "ax.set_title('Receiver Operating Characteristic Random Forest ',fontsize=20)\n",
    "ax.set_ylabel('True Positive Rate',fontsize=20)\n",
    "ax.set_xlabel('False Positive Rate',fontsize=15)\n",
    "ax.legend(loc = 'lower right', prop={'size': 16})\n",
    "plt.subplots_adjust(wspace=1)\n",
    "\n",
    "conf_matrix(y_test,pred)"
   ]
  },
  {
   "cell_type": "markdown",
   "metadata": {},
   "source": [
    "# NearMiss"
   ]
  },
  {
   "cell_type": "code",
   "execution_count": 74,
   "metadata": {},
   "outputs": [],
   "source": [
    "near =NearMiss()\n",
    "knn= KNeighborsClassifier(n_neighbors=48)\n",
    "y = df.deaths\n",
    "X = df.drop(['deaths'],axis=1)\n",
    "X_train_input, X_test_input, y_train, y_test = train_test_split(X, y, test_size=0.25, random_state=42)\n",
    "X_test=X_test_input.drop(['state','county','date','gender','cases', 'recovered'], axis=1)\n",
    "X_train=X_train_input.drop(['state','county','date','gender','cases', 'recovered'], axis=1)"
   ]
  },
  {
   "cell_type": "code",
   "execution_count": 75,
   "metadata": {},
   "outputs": [
    {
     "name": "stdout",
     "output_type": "stream",
     "text": [
      "\n",
      " memory before (Byte):  1461317632 \n",
      " memory after (Byte): 1469243392 \n",
      " used_memory (Byte): 7925760 \n",
      " time (Sekunde): 13.422051429748535\n"
     ]
    }
   ],
   "source": [
    "import time\n",
    "import os\n",
    "import psutil\n",
    " \n",
    "def get_process_memory():\n",
    "    process = psutil.Process(os.getpid())\n",
    "    mem_info = process.memory_info()\n",
    "    return mem_info.rss\n",
    "\n",
    "mem_before=get_process_memory()\n",
    "start=time.time()\n",
    "X_train_near, y_train_near = near.fit_sample(X_train, y_train)\n",
    "finish=time.time()- start\n",
    "mem_after= get_process_memory()\n",
    "print(\"\\n\",\"memory before (Byte): \",mem_before,\"\\n\",\"memory after (Byte):\", mem_after ,\"\\n\", \"used_memory (Byte):\",mem_after - mem_before,\"\\n\",\n",
    "        \"time (Sekunde):\", finish)"
   ]
  },
  {
   "cell_type": "code",
   "execution_count": 76,
   "metadata": {},
   "outputs": [
    {
     "name": "stdout",
     "output_type": "stream",
     "text": [
      "\n",
      " memory before (Byte):  1469243392 \n",
      " memory after (Byte): 1473069056 \n",
      " used_memory (Byte): 3825664 \n",
      " time (Sekunde): 0.34944963455200195\n"
     ]
    }
   ],
   "source": [
    "import time\n",
    "import os\n",
    "import psutil\n",
    " \n",
    "def get_process_memory():\n",
    "    process = psutil.Process(os.getpid())\n",
    "    mem_info = process.memory_info()\n",
    "    return mem_info.rss\n",
    "\n",
    "mem_before=get_process_memory()\n",
    "start=time.time()\n",
    "knn.fit(X_train_near, y_train_near)\n",
    "finish=time.time()- start\n",
    "mem_after= get_process_memory()\n",
    "print(\"\\n\",\"memory before (Byte): \",mem_before,\"\\n\",\"memory after (Byte):\", mem_after ,\"\\n\", \"used_memory (Byte):\",mem_after - mem_before,\"\\n\",\n",
    "        \"time (Sekunde):\", finish)"
   ]
  },
  {
   "cell_type": "code",
   "execution_count": 77,
   "metadata": {},
   "outputs": [
    {
     "name": "stdout",
     "output_type": "stream",
     "text": [
      "Accuracy of test_data:  0.39815072212248676\n",
      "Accuracy of train_data:  0.6645022661625531\n",
      "Recall: 0.562\n",
      "********************** Evaluation metrics for test dataset **************************\n",
      "\n",
      "('Model roc score:', 48.0)\n",
      "              precision    recall  f1-score   support\n",
      "\n",
      "           0       0.96      0.39      0.56    370367\n",
      "           1       0.03      0.56      0.07     14540\n",
      "\n",
      "    accuracy                           0.40    384907\n",
      "   macro avg       0.50      0.48      0.31    384907\n",
      "weighted avg       0.92      0.40      0.54    384907\n",
      "\n",
      "Recall Score:  0.5616231086657496\n",
      "Precision Score:  0.03497995270895446\n",
      "F1 Score:  0.06585802538832525\n",
      "Accuracy:  0.39815072212248676\n"
     ]
    },
    {
     "data": {
      "image/png": "[encoded data removed]",
      "text/plain": [
       "<Figure size 432x288 with 1 Axes>"
      ]
     },
     "metadata": {
      "needs_background": "light"
     },
     "output_type": "display_data"
    },
    {
     "name": "stdout",
     "output_type": "stream",
     "text": [
      "\n",
      "\tTable 3\n",
      "\n",
      "         deaths  pred\n",
      "899007        0     1\n",
      "1057250       0     1\n",
      "490454        0     0\n",
      "1307121       0     0\n",
      "251263        0     1\n",
      "matrix \n",
      " AxesSubplot(0.125,0.125;0.62x0.755)\n",
      "******************************** confusion matrix *****************************\n",
      "\n",
      "\n"
     ]
    },
    {
     "data": {
      "image/png": "[encoded data removed]",
      "text/plain": [
       "<Figure size 432x288 with 2 Axes>"
      ]
     },
     "metadata": {
      "needs_background": "light"
     },
     "output_type": "display_data"
    },
    {
     "data": {
      "text/html": [
       "<div>\n",
       "<style scoped>\n",
       "    .dataframe tbody tr th:only-of-type {\n",
       "        vertical-align: middle;\n",
       "    }\n",
       "\n",
       "    .dataframe tbody tr th {\n",
       "        vertical-align: top;\n",
       "    }\n",
       "\n",
       "    .dataframe thead th {\n",
       "        text-align: right;\n",
       "    }\n",
       "</style>\n",
       "<table border=\"1\" class=\"dataframe\">\n",
       "  <thead>\n",
       "    <tr style=\"text-align: right;\">\n",
       "      <th></th>\n",
       "      <th>Pred 0(recovered)</th>\n",
       "      <th>Pred 1(deaths)</th>\n",
       "    </tr>\n",
       "  </thead>\n",
       "  <tbody>\n",
       "    <tr>\n",
       "      <th>True 0(recovered)</th>\n",
       "      <td>TN = 145085 (TNR = 39.17%)</td>\n",
       "      <td>FP = 225282 (FPR = 60.83%)</td>\n",
       "    </tr>\n",
       "    <tr>\n",
       "      <th>True 1(deaths)</th>\n",
       "      <td>FN = 6374 (FNR = 43.84%)</td>\n",
       "      <td>TP = 8166 (TPR = 56.16%)</td>\n",
       "    </tr>\n",
       "  </tbody>\n",
       "</table>\n",
       "</div>"
      ],
      "text/plain": [
       "                            Pred 0(recovered)              Pred 1(deaths)\n",
       "True 0(recovered)  TN = 145085 (TNR = 39.17%)  FP = 225282 (FPR = 60.83%)\n",
       "True 1(deaths)       FN = 6374 (FNR = 43.84%)    TP = 8166 (TPR = 56.16%)"
      ]
     },
     "execution_count": 77,
     "metadata": {},
     "output_type": "execute_result"
    },
    {
     "data": {
      "image/png": "[encoded data removed]",
      "text/plain": [
       "<Figure size 432x432 with 1 Axes>"
      ]
     },
     "metadata": {
      "needs_background": "light"
     },
     "output_type": "display_data"
    }
   ],
   "source": [
    "pred = np.array(knn.predict(X_test))\n",
    "pred_train = np.array(knn.predict(X_train_near))\n",
    "print('Accuracy of test_data: ', accuracy_score(y_test, pred))\n",
    "print('Accuracy of train_data: ', accuracy_score(y_train_near, pred_train))\n",
    "print(\"Recall: {0:.3f}\".format(recall_score(y_test, pred)))\n",
    "\n",
    "print('********************** Evaluation metrics for test dataset **************************\\n')\n",
    "print(('Model roc score:',100*roc_auc_score(y_test,pred).round(2)))\n",
    "print(classification_report(y_test, pred))\n",
    "cnf_matrix=confusion_matrix(y_test, pred)\n",
    "\n",
    "pred = np.array(knn.predict(X_test))\n",
    "recall = rs(y_test,pred)\n",
    "precision = ps(y_test,pred)\n",
    "f1 = fs(y_test,pred)\n",
    "ma = knn.score(X_test,y_test)\n",
    "print('Recall Score: ',recall)\n",
    "print('Precision Score: ',precision)\n",
    "print('F1 Score: ',f1)\n",
    "print('Accuracy: ',ma)\n",
    "plt.bar(['Accuracy','F1 Score','Recall Score','Precision Score'],[ma,f1,recall,precision],color=['red','green','purple','orange'])\n",
    "plt.plot([ma,f1,recall,precision],color='black')\n",
    "plt.title('Evaluation Metrics for Random Forest Classifier')\n",
    "plt.show()\n",
    "a = pd.DataFrame(y_test)\n",
    "a['pred']= knn.predict(X_test)\n",
    "print('\\n\\tTable 3\\n')\n",
    "print(a.head())\n",
    "\n",
    "def conf_matrix(y_test,pred):\n",
    "    ((tn, fp), (fn, tp)) =metrics.confusion_matrix(y_test, pred)\n",
    "    ((tnr,fpr),(fnr,tpr))= normalize(metrics.confusion_matrix(y_test, pred), axis=1, norm='l1')\n",
    "    return pd.DataFrame([[f'TN = {tn} (TNR = {tnr:1.2%})', \n",
    "                                f'FP = {fp} (FPR = {fpr:1.2%})'], \n",
    "                         [f'FN = {fn} (FNR = {fnr:1.2%})', \n",
    "                                f'TP = {tp} (TPR = {tpr:1.2%})']],\n",
    "            index=['True 0(recovered)', 'True 1(deaths)'], \n",
    "            columns=['Pred 0(recovered)', \n",
    "                            'Pred 1(deaths)'])\n",
    "\n",
    "\n",
    "cm_matrix = pd.DataFrame(data=cnf_matrix, columns=['predict Negative:0', 'predict Positive:1'], \n",
    "                            index=['Actual  Negative:0', 'Actual Positive:1'])\n",
    "print('matrix \\n',sns.heatmap(cm_matrix, annot=True, fmt='d', cmap='YlGnBu'))\n",
    "# feature_scores = pd.Series(rfc.feature_importances_, index=X_train.columns).sort_values(ascending=False)\n",
    "# print('********************************* feature importances**************************\\n\\n')\n",
    "# print('feature_importances:  \\n',feature_scores)\n",
    "print('******************************** confusion matrix *****************************\\n\\n')\n",
    "plt.show()\n",
    "\n",
    "fig, ax = plt.subplots(figsize = (6,6))\n",
    "probs = knn.predict_proba(X_test)\n",
    "preds = probs[:,1]\n",
    "fprrfc, tprrfc, thresholdrfc = metrics.roc_curve(y_test, preds)\n",
    "roc_aucrfc = metrics.auc(fprrfc, tprrfc)\n",
    "ax.plot(fprrfc, tprrfc, 'b', label = 'AUC = %0.2f' % roc_aucrfc)\n",
    "ax.plot([0, 1], [0, 1],'r--')\n",
    "ax.set_title('Receiver Operating Characteristic Random Forest ',fontsize=20)\n",
    "ax.set_ylabel('True Positive Rate',fontsize=20)\n",
    "ax.set_xlabel('False Positive Rate',fontsize=15)\n",
    "ax.legend(loc = 'lower right', prop={'size': 16})\n",
    "plt.subplots_adjust(wspace=1)\n",
    "\n",
    "conf_matrix(y_test,pred)"
   ]
  },
  {
   "cell_type": "markdown",
   "metadata": {},
   "source": [
    "# RandomOverSampler"
   ]
  },
  {
   "cell_type": "code",
   "execution_count": 78,
   "metadata": {},
   "outputs": [],
   "source": [
    "ros =RandomOverSampler()\n",
    "knn= KNeighborsClassifier(n_neighbors=48)\n",
    "y = df.deaths\n",
    "X = df.drop(['deaths'],axis=1)\n",
    "X_train_input, X_test_input, y_train, y_test = train_test_split(X, y, test_size=0.25, random_state=42)\n",
    "X_test=X_test_input.drop(['state','county','date','gender','cases', 'recovered'], axis=1)\n",
    "X_train=X_train_input.drop(['state','county','date','gender','cases', 'recovered'], axis=1)"
   ]
  },
  {
   "cell_type": "code",
   "execution_count": 79,
   "metadata": {},
   "outputs": [
    {
     "name": "stdout",
     "output_type": "stream",
     "text": [
      "\n",
      " memory before (Byte):  1455230976 \n",
      " memory after (Byte): 1562001408 \n",
      " used_memory (Byte): 106770432 \n",
      " time (Sekunde): 0.9414777755737305\n"
     ]
    }
   ],
   "source": [
    "import time\n",
    "import os\n",
    "import psutil\n",
    " \n",
    "def get_process_memory():\n",
    "    process = psutil.Process(os.getpid())\n",
    "    mem_info = process.memory_info()\n",
    "    return mem_info.rss\n",
    "mem_before=get_process_memory()\n",
    "start=time.time()\n",
    "X_train_ros, y_train_ros = ros.fit_sample(X_train, y_train)\n",
    "finish=time.time() - start\n",
    "mem_after=get_process_memory()\n",
    "print(\"\\n\",\"memory before (Byte): \",mem_before,\"\\n\",\"memory after (Byte):\", mem_after ,\"\\n\", \"used_memory (Byte):\",mem_after - mem_before,\"\\n\",\n",
    "        \"time (Sekunde):\", finish)"
   ]
  },
  {
   "cell_type": "code",
   "execution_count": 80,
   "metadata": {},
   "outputs": [
    {
     "name": "stdout",
     "output_type": "stream",
     "text": [
      "\n",
      " memory before (Byte):  1562001408 \n",
      " memory after (Byte): 1692356608 \n",
      " used_memory (Byte): 130355200 \n",
      " time (Sekunde): 285.30389761924744\n"
     ]
    }
   ],
   "source": [
    "import time\n",
    "import os\n",
    "import psutil\n",
    "\n",
    "def get_process_memory():\n",
    "    process = psutil.Process(os.getpid())\n",
    "    mem_info = process.memory_info()\n",
    "    return mem_info.rss\n",
    "\n",
    "mem_before = get_process_memory()\n",
    "start = time.time()\n",
    "knn.fit(X_train_ros, y_train_ros)\n",
    "finish = time.time() - start\n",
    "mem_after = get_process_memory()\n",
    "print(\"\\n\",\"memory before (Byte): \",mem_before,\"\\n\",\"memory after (Byte):\" ,mem_after ,\"\\n\", \"used_memory (Byte):\",mem_after - mem_before,\"\\n\",\n",
    "        \"time (Sekunde):\", finish)"
   ]
  },
  {
   "cell_type": "code",
   "execution_count": 82,
   "metadata": {},
   "outputs": [
    {
     "name": "stdout",
     "output_type": "stream",
     "text": [
      "Accuracy of test_data:  0.783688007752522\n",
      "Accuracy of train_data:  0.8764079900371807\n",
      "Recall: 0.846\n",
      "********************** Evaluation metrics for test dataset **************************\n",
      "\n",
      "('Model roc score:', 81.0)\n",
      "              precision    recall  f1-score   support\n",
      "\n",
      "           0       0.99      0.78      0.87    370367\n",
      "           1       0.13      0.85      0.23     14540\n",
      "\n",
      "    accuracy                           0.78    384907\n",
      "   macro avg       0.56      0.81      0.55    384907\n",
      "weighted avg       0.96      0.78      0.85    384907\n",
      "\n",
      "Recall Score:  0.8458734525447043\n",
      "Precision Score:  0.13179665230716475\n",
      "F1 Score:  0.22805911476200189\n",
      "Accuracy:  0.783688007752522\n"
     ]
    },
    {
     "data": {
      "image/png": "[encoded data removed]",
      "text/plain": [
       "<Figure size 432x288 with 1 Axes>"
      ]
     },
     "metadata": {
      "needs_background": "light"
     },
     "output_type": "display_data"
    },
    {
     "name": "stdout",
     "output_type": "stream",
     "text": [
      "\n",
      "\tTable 3\n",
      "\n",
      "         deaths  pred\n",
      "899007        0     1\n",
      "1057250       0     0\n",
      "490454        0     1\n",
      "1307121       0     0\n",
      "251263        0     0\n",
      "matrix \n",
      " AxesSubplot(0.125,0.125;0.62x0.755)\n",
      "******************************** confusion matrix *****************************\n",
      "\n",
      "\n"
     ]
    },
    {
     "data": {
      "image/png": "[encoded data removed]",
      "text/plain": [
       "<Figure size 432x288 with 2 Axes>"
      ]
     },
     "metadata": {
      "needs_background": "light"
     },
     "output_type": "display_data"
    },
    {
     "data": {
      "text/html": [
       "<div>\n",
       "<style scoped>\n",
       "    .dataframe tbody tr th:only-of-type {\n",
       "        vertical-align: middle;\n",
       "    }\n",
       "\n",
       "    .dataframe tbody tr th {\n",
       "        vertical-align: top;\n",
       "    }\n",
       "\n",
       "    .dataframe thead th {\n",
       "        text-align: right;\n",
       "    }\n",
       "</style>\n",
       "<table border=\"1\" class=\"dataframe\">\n",
       "  <thead>\n",
       "    <tr style=\"text-align: right;\">\n",
       "      <th></th>\n",
       "      <th>Pred 0(recovered)</th>\n",
       "      <th>Pred 1(deaths)</th>\n",
       "    </tr>\n",
       "  </thead>\n",
       "  <tbody>\n",
       "    <tr>\n",
       "      <th>True 0(recovered)</th>\n",
       "      <td>TN = 289348 (TNR = 78.12%)</td>\n",
       "      <td>FP = 81019 (FPR = 21.88%)</td>\n",
       "    </tr>\n",
       "    <tr>\n",
       "      <th>True 1(deaths)</th>\n",
       "      <td>FN = 2241 (FNR = 15.41%)</td>\n",
       "      <td>TP = 12299 (TPR = 84.59%)</td>\n",
       "    </tr>\n",
       "  </tbody>\n",
       "</table>\n",
       "</div>"
      ],
      "text/plain": [
       "                            Pred 0(recovered)             Pred 1(deaths)\n",
       "True 0(recovered)  TN = 289348 (TNR = 78.12%)  FP = 81019 (FPR = 21.88%)\n",
       "True 1(deaths)       FN = 2241 (FNR = 15.41%)  TP = 12299 (TPR = 84.59%)"
      ]
     },
     "execution_count": 82,
     "metadata": {},
     "output_type": "execute_result"
    },
    {
     "data": {
      "image/png": "[encoded data removed]",
      "text/plain": [
       "<Figure size 432x432 with 1 Axes>"
      ]
     },
     "metadata": {
      "needs_background": "light"
     },
     "output_type": "display_data"
    }
   ],
   "source": [
    "pred = np.array(knn.predict(X_test))\n",
    "pred_train = np.array(knn.predict(X_train_ros))\n",
    "print('Accuracy of test_data: ', accuracy_score(y_test, pred))\n",
    "print('Accuracy of train_data: ', accuracy_score(y_train_ros, pred_train))\n",
    "print(\"Recall: {0:.3f}\".format(recall_score(y_test, pred)))\n",
    "print('********************** Evaluation metrics for test dataset **************************\\n')\n",
    "print(('Model roc score:',100*roc_auc_score(y_test,pred).round(2)))\n",
    "print(classification_report(y_test, pred))\n",
    "cnf_matrix=confusion_matrix(y_test, pred)\n",
    "\n",
    "pred = np.array(knn.predict(X_test))\n",
    "recall = rs(y_test,pred)\n",
    "precision = ps(y_test,pred)\n",
    "f1 = fs(y_test,pred)\n",
    "ma = knn.score(X_test,y_test)\n",
    "print('Recall Score: ',recall)\n",
    "print('Precision Score: ',precision)\n",
    "print('F1 Score: ',f1)\n",
    "print('Accuracy: ',ma)\n",
    "plt.bar(['Accuracy','F1 Score','Recall Score','Precision Score'],[ma,f1,recall,precision],color=['red','green','purple','orange'])\n",
    "plt.plot([ma,f1,recall,precision],color='black')\n",
    "plt.title('Evaluation Metrics for Random Forest Classifier')\n",
    "plt.show()\n",
    "a = pd.DataFrame(y_test)\n",
    "a['pred']= knn.predict(X_test)\n",
    "print('\\n\\tTable 3\\n')\n",
    "print(a.head())\n",
    "\n",
    "def conf_matrix(y_test,pred):\n",
    "    ((tn, fp), (fn, tp)) =metrics.confusion_matrix(y_test, pred)\n",
    "    ((tnr,fpr),(fnr,tpr))= normalize(metrics.confusion_matrix(y_test, pred), axis=1, norm='l1')\n",
    "    return pd.DataFrame([[f'TN = {tn} (TNR = {tnr:1.2%})', \n",
    "                                f'FP = {fp} (FPR = {fpr:1.2%})'], \n",
    "                         [f'FN = {fn} (FNR = {fnr:1.2%})', \n",
    "                                f'TP = {tp} (TPR = {tpr:1.2%})']],\n",
    "            index=['True 0(recovered)', 'True 1(deaths)'], \n",
    "            columns=['Pred 0(recovered)', \n",
    "                            'Pred 1(deaths)'])\n",
    "\n",
    "\n",
    "cm_matrix = pd.DataFrame(data=cnf_matrix, columns=['predict Negative:0', 'predict Positive:1'], \n",
    "                            index=['Actual  Negative:0', 'Actual Positive:1'])\n",
    "print('matrix \\n',sns.heatmap(cm_matrix, annot=True, fmt='d', cmap='YlGnBu'))\n",
    "# feature_scores = pd.Series(rfc.feature_importances_, index=X_train.columns).sort_values(ascending=False)\n",
    "# print('********************************* feature importances**************************\\n\\n')\n",
    "# print('feature_importances:  \\n',feature_scores)\n",
    "print('******************************** confusion matrix *****************************\\n\\n')\n",
    "plt.show()\n",
    "\n",
    "fig, ax = plt.subplots(figsize = (6,6))\n",
    "probs = knn.predict_proba(X_test)\n",
    "preds = probs[:,1]\n",
    "fprrfc, tprrfc, thresholdrfc = metrics.roc_curve(y_test, preds)\n",
    "roc_aucrfc = metrics.auc(fprrfc, tprrfc)\n",
    "ax.plot(fprrfc, tprrfc, 'b', label = 'AUC = %0.2f' % roc_aucrfc)\n",
    "ax.plot([0, 1], [0, 1],'r--')\n",
    "ax.set_title('Receiver Operating Characteristic Random Forest ',fontsize=20)\n",
    "ax.set_ylabel('True Positive Rate',fontsize=20)\n",
    "ax.set_xlabel('False Positive Rate',fontsize=15)\n",
    "ax.legend(loc = 'lower right', prop={'size': 16})\n",
    "plt.subplots_adjust(wspace=1)\n",
    "\n",
    "conf_matrix(y_test,pred)"
   ]
  },
  {
   "cell_type": "markdown",
   "metadata": {},
   "source": [
    "# SMOTE"
   ]
  },
  {
   "cell_type": "code",
   "execution_count": 83,
   "metadata": {},
   "outputs": [],
   "source": [
    "somte =SMOTE(random_state=42)\n",
    "knn= KNeighborsClassifier(n_neighbors=48)\n",
    "y = df.deaths\n",
    "X = df.drop(['deaths'],axis=1)\n",
    "X_train_input, X_test_input, y_train, y_test = train_test_split(X, y, test_size=0.25, random_state=42)\n",
    "X_test=X_test_input.drop(['state','county','date','gender','cases', 'recovered'], axis=1)\n",
    "X_train=X_train_input.drop(['state','county','date','gender','cases', 'recovered'], axis=1)"
   ]
  },
  {
   "cell_type": "code",
   "execution_count": 84,
   "metadata": {},
   "outputs": [
    {
     "name": "stdout",
     "output_type": "stream",
     "text": [
      "\n",
      " memory before (Byte):  1153372160 \n",
      " memory after (Byte): 1263616000 \n",
      " used_memory (Byte): 110243840 \n",
      " time (Sekunde): 1.4989891052246094\n"
     ]
    }
   ],
   "source": [
    "import time\n",
    "import os\n",
    "import psutil\n",
    " \n",
    "def get_process_memory():\n",
    "    process = psutil.Process(os.getpid())\n",
    "    mem_info = process.memory_info()\n",
    "    return mem_info.rss\n",
    "mem_before=get_process_memory()\n",
    "start=time.time()\n",
    "X_train_som, y_train_som = somte.fit_sample(X_train, y_train)\n",
    "finish=time.time()- start\n",
    "mem_after= get_process_memory()\n",
    "print(\"\\n\",\"memory before (Byte): \",mem_before,\"\\n\",\"memory after (Byte):\", mem_after ,\"\\n\", \"used_memory (Byte):\",mem_after - mem_before,\"\\n\",\n",
    "        \"time (Sekunde):\", finish)"
   ]
  },
  {
   "cell_type": "code",
   "execution_count": 85,
   "metadata": {},
   "outputs": [
    {
     "name": "stdout",
     "output_type": "stream",
     "text": [
      "\n",
      " memory before (Byte):  1263624192 \n",
      " memory after (Byte): 1393983488 \n",
      " used_memory (Byte): 130359296 \n",
      " time (Sekunde): 285.76354932785034\n"
     ]
    }
   ],
   "source": [
    "import time\n",
    "import os\n",
    "import psutil\n",
    " \n",
    "def get_process_memory():\n",
    "    process = psutil.Process(os.getpid())\n",
    "    mem_info = process.memory_info()\n",
    "    return mem_info.rss\n",
    "\n",
    "mem_before=get_process_memory()\n",
    "start=time.time()\n",
    "knn.fit(X_train_som, y_train_som)\n",
    "finish=time.time()- start\n",
    "mem_after= get_process_memory()\n",
    "print(\"\\n\",\"memory before (Byte): \",mem_before,\"\\n\",\"memory after (Byte):\", mem_after ,\"\\n\", \"used_memory (Byte):\",mem_after - mem_before,\"\\n\",\n",
    "        \"time (Sekunde):\", finish)"
   ]
  },
  {
   "cell_type": "code",
   "execution_count": 86,
   "metadata": {},
   "outputs": [
    {
     "name": "stdout",
     "output_type": "stream",
     "text": [
      "Accuracy of test_data:  0.8214763566264058\n",
      "Accuracy of train_data:  0.8865654799102627\n",
      "Recall: 0.780\n",
      "********************** Evaluation metrics for test dataset **************************\n",
      "\n",
      "('Model roc score:', 80.0)\n",
      "              precision    recall  f1-score   support\n",
      "\n",
      "           0       0.99      0.82      0.90    370367\n",
      "           1       0.15      0.78      0.25     14540\n",
      "\n",
      "    accuracy                           0.82    384907\n",
      "   macro avg       0.57      0.80      0.57    384907\n",
      "weighted avg       0.96      0.82      0.87    384907\n",
      "\n",
      "Recall Score:  0.7801925722145805\n",
      "Precision Score:  0.14758726565447614\n",
      "F1 Score:  0.24821942387011367\n",
      "Accuracy:  0.8214763566264058\n"
     ]
    },
    {
     "data": {
      "image/png": "[encoded data removed]",
      "text/plain": [
       "<Figure size 432x288 with 1 Axes>"
      ]
     },
     "metadata": {
      "needs_background": "light"
     },
     "output_type": "display_data"
    },
    {
     "name": "stdout",
     "output_type": "stream",
     "text": [
      "\n",
      "\tTable 3\n",
      "\n",
      "         deaths  pred\n",
      "899007        0     1\n",
      "1057250       0     0\n",
      "490454        0     1\n",
      "1307121       0     0\n",
      "251263        0     0\n",
      "matrix \n",
      " AxesSubplot(0.125,0.125;0.62x0.755)\n",
      "******************************** confusion matrix *****************************\n",
      "\n",
      "\n"
     ]
    },
    {
     "data": {
      "image/png": "[encoded data removed]",
      "text/plain": [
       "<Figure size 432x288 with 2 Axes>"
      ]
     },
     "metadata": {
      "needs_background": "light"
     },
     "output_type": "display_data"
    },
    {
     "data": {
      "text/html": [
       "<div>\n",
       "<style scoped>\n",
       "    .dataframe tbody tr th:only-of-type {\n",
       "        vertical-align: middle;\n",
       "    }\n",
       "\n",
       "    .dataframe tbody tr th {\n",
       "        vertical-align: top;\n",
       "    }\n",
       "\n",
       "    .dataframe thead th {\n",
       "        text-align: right;\n",
       "    }\n",
       "</style>\n",
       "<table border=\"1\" class=\"dataframe\">\n",
       "  <thead>\n",
       "    <tr style=\"text-align: right;\">\n",
       "      <th></th>\n",
       "      <th>Pred 0(recovered)</th>\n",
       "      <th>Pred 1(deaths)</th>\n",
       "    </tr>\n",
       "  </thead>\n",
       "  <tbody>\n",
       "    <tr>\n",
       "      <th>True 0(recovered)</th>\n",
       "      <td>TN = 304848 (TNR = 82.31%)</td>\n",
       "      <td>FP = 65519 (FPR = 17.69%)</td>\n",
       "    </tr>\n",
       "    <tr>\n",
       "      <th>True 1(deaths)</th>\n",
       "      <td>FN = 3196 (FNR = 21.98%)</td>\n",
       "      <td>TP = 11344 (TPR = 78.02%)</td>\n",
       "    </tr>\n",
       "  </tbody>\n",
       "</table>\n",
       "</div>"
      ],
      "text/plain": [
       "                            Pred 0(recovered)             Pred 1(deaths)\n",
       "True 0(recovered)  TN = 304848 (TNR = 82.31%)  FP = 65519 (FPR = 17.69%)\n",
       "True 1(deaths)       FN = 3196 (FNR = 21.98%)  TP = 11344 (TPR = 78.02%)"
      ]
     },
     "execution_count": 86,
     "metadata": {},
     "output_type": "execute_result"
    },
    {
     "data": {
      "image/png": "[encoded data removed]",
      "text/plain": [
       "<Figure size 432x432 with 1 Axes>"
      ]
     },
     "metadata": {
      "needs_background": "light"
     },
     "output_type": "display_data"
    }
   ],
   "source": [
    "pred = np.array(knn.predict(X_test))\n",
    "pred_train = np.array(knn.predict(X_train_som))\n",
    "print('Accuracy of test_data: ', accuracy_score(y_test, pred))\n",
    "print('Accuracy of train_data: ', accuracy_score(y_train_som, pred_train))\n",
    "print(\"Recall: {0:.3f}\".format(recall_score(y_test, pred)))\n",
    "\n",
    "print('********************** Evaluation metrics for test dataset **************************\\n')\n",
    "print(('Model roc score:',100*roc_auc_score(y_test,pred).round(2)))\n",
    "print(classification_report(y_test, pred))\n",
    "cnf_matrix=confusion_matrix(y_test, pred)\n",
    "\n",
    "pred = np.array(knn.predict(X_test))\n",
    "recall = rs(y_test,pred)\n",
    "precision = ps(y_test,pred)\n",
    "f1 = fs(y_test,pred)\n",
    "ma = knn.score(X_test,y_test)\n",
    "print('Recall Score: ',recall)\n",
    "print('Precision Score: ',precision)\n",
    "print('F1 Score: ',f1)\n",
    "print('Accuracy: ',ma)\n",
    "plt.bar(['Accuracy','F1 Score','Recall Score','Precision Score'],[ma,f1,recall,precision],color=['red','green','purple','orange'])\n",
    "plt.plot([ma,f1,recall,precision],color='black')\n",
    "plt.title('Evaluation Metrics for Random Forest Classifier')\n",
    "plt.show()\n",
    "a = pd.DataFrame(y_test)\n",
    "a['pred']= knn.predict(X_test)\n",
    "print('\\n\\tTable 3\\n')\n",
    "print(a.head())\n",
    "\n",
    "def conf_matrix(y_test,pred):\n",
    "    ((tn, fp), (fn, tp)) =metrics.confusion_matrix(y_test, pred)\n",
    "    ((tnr,fpr),(fnr,tpr))= normalize(metrics.confusion_matrix(y_test, pred), axis=1, norm='l1')\n",
    "    return pd.DataFrame([[f'TN = {tn} (TNR = {tnr:1.2%})', \n",
    "                                f'FP = {fp} (FPR = {fpr:1.2%})'], \n",
    "                         [f'FN = {fn} (FNR = {fnr:1.2%})', \n",
    "                                f'TP = {tp} (TPR = {tpr:1.2%})']],\n",
    "            index=['True 0(recovered)', 'True 1(deaths)'], \n",
    "            columns=['Pred 0(recovered)', \n",
    "                            'Pred 1(deaths)'])\n",
    "\n",
    "\n",
    "cm_matrix = pd.DataFrame(data=cnf_matrix, columns=['predict Negative:0', 'predict Positive:1'], \n",
    "                            index=['Actual  Negative:0', 'Actual Positive:1'])\n",
    "print('matrix \\n',sns.heatmap(cm_matrix, annot=True, fmt='d', cmap='YlGnBu'))\n",
    "# feature_scores = pd.Series(rfc.feature_importances_, index=X_train.columns).sort_values(ascending=False)\n",
    "# print('********************************* feature importances**************************\\n\\n')\n",
    "# print('feature_importances:  \\n',feature_scores)\n",
    "print('******************************** confusion matrix *****************************\\n\\n')\n",
    "plt.show()\n",
    "\n",
    "fig, ax = plt.subplots(figsize = (6,6))\n",
    "probs = knn.predict_proba(X_test)\n",
    "preds = probs[:,1]\n",
    "fprrfc, tprrfc, thresholdrfc = metrics.roc_curve(y_test, preds)\n",
    "roc_aucrfc = metrics.auc(fprrfc, tprrfc)\n",
    "ax.plot(fprrfc, tprrfc, 'b', label = 'AUC = %0.2f' % roc_aucrfc)\n",
    "ax.plot([0, 1], [0, 1],'r--')\n",
    "ax.set_title('Receiver Operating Characteristic Random Forest ',fontsize=20)\n",
    "ax.set_ylabel('True Positive Rate',fontsize=20)\n",
    "ax.set_xlabel('False Positive Rate',fontsize=15)\n",
    "ax.legend(loc = 'lower right', prop={'size': 16})\n",
    "plt.subplots_adjust(wspace=1)\n",
    "\n",
    "conf_matrix(y_test,pred)"
   ]
  },
  {
   "cell_type": "markdown",
   "metadata": {},
   "source": [
    "# Die Ergbnisse sagte aus:\n",
    "    1) RandomUnderResampling mit der Funktion GradSearchCv leifert das beste Trainingsmodel \n",
    "    2) NearMiss Resampling-Methode bringt die am schlemesten Ergebisse"
   ]
  },
  {
   "cell_type": "markdown",
   "metadata": {},
   "source": [
    "# Bewertung der extrahrierten Muster mit Tableua"
   ]
  },
  {
   "cell_type": "code",
   "execution_count": 150,
   "metadata": {},
   "outputs": [
    {
     "data": {
      "text/plain": [
       "array([1, 0, 1, ..., 0, 0, 1], dtype=int64)"
      ]
     },
     "execution_count": 150,
     "metadata": {},
     "output_type": "execute_result"
    }
   ],
   "source": [
    "pred"
   ]
  },
  {
   "cell_type": "code",
   "execution_count": 151,
   "metadata": {},
   "outputs": [
    {
     "data": {
      "text/plain": [
       "109785"
      ]
     },
     "execution_count": 151,
     "metadata": {},
     "output_type": "execute_result"
    }
   ],
   "source": [
    "pred.sum()"
   ]
  },
  {
   "cell_type": "code",
   "execution_count": 152,
   "metadata": {},
   "outputs": [
    {
     "data": {
      "text/plain": [
       "14540"
      ]
     },
     "execution_count": 152,
     "metadata": {},
     "output_type": "execute_result"
    }
   ],
   "source": [
    "y_test.sum()"
   ]
  },
  {
   "cell_type": "code",
   "execution_count": 153,
   "metadata": {},
   "outputs": [],
   "source": [
    "X_testdf= pd.DataFrame(X_test_input,columns=['age_group', 'state','county','gender','date','recovered','cases'])\n",
    "y_testdf= pd.DataFrame(y_test,columns=['deaths'])\n",
    "predictionsdf= pd.DataFrame(pred,columns=['predictions_deaths'])\n",
    "testdata=[X_testdf,y_testdf,predictionsdf]\n",
    "X_testdf.reset_index(drop=True, inplace=True)\n",
    "y_testdf.reset_index(drop=True, inplace=True)\n",
    "predictionsdf.reset_index(drop=True, inplace=True)\n",
    "testdatadf=pd.concat(testdata,axis=1)"
   ]
  },
  {
   "cell_type": "code",
   "execution_count": 154,
   "metadata": {},
   "outputs": [
    {
     "data": {
      "text/html": [
       "<div>\n",
       "<style scoped>\n",
       "    .dataframe tbody tr th:only-of-type {\n",
       "        vertical-align: middle;\n",
       "    }\n",
       "\n",
       "    .dataframe tbody tr th {\n",
       "        vertical-align: top;\n",
       "    }\n",
       "\n",
       "    .dataframe thead th {\n",
       "        text-align: right;\n",
       "    }\n",
       "</style>\n",
       "<table border=\"1\" class=\"dataframe\">\n",
       "  <thead>\n",
       "    <tr style=\"text-align: right;\">\n",
       "      <th></th>\n",
       "      <th>age_group</th>\n",
       "      <th>state</th>\n",
       "      <th>county</th>\n",
       "      <th>gender</th>\n",
       "      <th>date</th>\n",
       "      <th>recovered</th>\n",
       "      <th>cases</th>\n",
       "      <th>deaths</th>\n",
       "      <th>predictions_deaths</th>\n",
       "    </tr>\n",
       "  </thead>\n",
       "  <tbody>\n",
       "    <tr>\n",
       "      <th>0</th>\n",
       "      <td>90</td>\n",
       "      <td>Nordrhein-Westfalen</td>\n",
       "      <td>LK Hochsauerlandkreis</td>\n",
       "      <td>M</td>\n",
       "      <td>2021-01-20</td>\n",
       "      <td>1</td>\n",
       "      <td>4</td>\n",
       "      <td>0</td>\n",
       "      <td>1</td>\n",
       "    </tr>\n",
       "    <tr>\n",
       "      <th>1</th>\n",
       "      <td>47</td>\n",
       "      <td>Nordrhein-Westfalen</td>\n",
       "      <td>SK Dortmund</td>\n",
       "      <td>M</td>\n",
       "      <td>2021-01-20</td>\n",
       "      <td>1</td>\n",
       "      <td>20</td>\n",
       "      <td>0</td>\n",
       "      <td>0</td>\n",
       "    </tr>\n",
       "    <tr>\n",
       "      <th>2</th>\n",
       "      <td>90</td>\n",
       "      <td>Berlin</td>\n",
       "      <td>SK Berlin Neukoelln</td>\n",
       "      <td>F</td>\n",
       "      <td>2020-12-17</td>\n",
       "      <td>1</td>\n",
       "      <td>35</td>\n",
       "      <td>0</td>\n",
       "      <td>1</td>\n",
       "    </tr>\n",
       "    <tr>\n",
       "      <th>3</th>\n",
       "      <td>70</td>\n",
       "      <td>Sachsen</td>\n",
       "      <td>LK Meissen</td>\n",
       "      <td>M</td>\n",
       "      <td>2020-12-07</td>\n",
       "      <td>1</td>\n",
       "      <td>24</td>\n",
       "      <td>0</td>\n",
       "      <td>1</td>\n",
       "    </tr>\n",
       "    <tr>\n",
       "      <th>4</th>\n",
       "      <td>47</td>\n",
       "      <td>Bayern</td>\n",
       "      <td>LK Freyung-Grafenau</td>\n",
       "      <td>F</td>\n",
       "      <td>2020-12-18</td>\n",
       "      <td>1</td>\n",
       "      <td>13</td>\n",
       "      <td>0</td>\n",
       "      <td>0</td>\n",
       "    </tr>\n",
       "    <tr>\n",
       "      <th>...</th>\n",
       "      <td>...</td>\n",
       "      <td>...</td>\n",
       "      <td>...</td>\n",
       "      <td>...</td>\n",
       "      <td>...</td>\n",
       "      <td>...</td>\n",
       "      <td>...</td>\n",
       "      <td>...</td>\n",
       "      <td>...</td>\n",
       "    </tr>\n",
       "    <tr>\n",
       "      <th>384902</th>\n",
       "      <td>70</td>\n",
       "      <td>Sachsen</td>\n",
       "      <td>LK Saechsische Schweiz-Osterzgebirge</td>\n",
       "      <td>M</td>\n",
       "      <td>2020-11-20</td>\n",
       "      <td>1</td>\n",
       "      <td>19</td>\n",
       "      <td>0</td>\n",
       "      <td>1</td>\n",
       "    </tr>\n",
       "    <tr>\n",
       "      <th>384903</th>\n",
       "      <td>70</td>\n",
       "      <td>Bayern</td>\n",
       "      <td>SK Nuernberg</td>\n",
       "      <td>M</td>\n",
       "      <td>2021-01-01</td>\n",
       "      <td>1</td>\n",
       "      <td>11</td>\n",
       "      <td>0</td>\n",
       "      <td>1</td>\n",
       "    </tr>\n",
       "    <tr>\n",
       "      <th>384904</th>\n",
       "      <td>24</td>\n",
       "      <td>Sachsen</td>\n",
       "      <td>SK Leipzig</td>\n",
       "      <td>M</td>\n",
       "      <td>2020-12-14</td>\n",
       "      <td>1</td>\n",
       "      <td>37</td>\n",
       "      <td>0</td>\n",
       "      <td>0</td>\n",
       "    </tr>\n",
       "    <tr>\n",
       "      <th>384905</th>\n",
       "      <td>47</td>\n",
       "      <td>Bayern</td>\n",
       "      <td>LK Muehldorf a.Inn</td>\n",
       "      <td>M</td>\n",
       "      <td>2021-02-06</td>\n",
       "      <td>1</td>\n",
       "      <td>6</td>\n",
       "      <td>0</td>\n",
       "      <td>0</td>\n",
       "    </tr>\n",
       "    <tr>\n",
       "      <th>384906</th>\n",
       "      <td>90</td>\n",
       "      <td>Berlin</td>\n",
       "      <td>SK Berlin Treptow-Koepenick</td>\n",
       "      <td>M</td>\n",
       "      <td>2021-01-20</td>\n",
       "      <td>1</td>\n",
       "      <td>3</td>\n",
       "      <td>0</td>\n",
       "      <td>1</td>\n",
       "    </tr>\n",
       "  </tbody>\n",
       "</table>\n",
       "<p>384907 rows × 9 columns</p>\n",
       "</div>"
      ],
      "text/plain": [
       "        age_group                state                                county  \\\n",
       "0              90  Nordrhein-Westfalen                 LK Hochsauerlandkreis   \n",
       "1              47  Nordrhein-Westfalen                           SK Dortmund   \n",
       "2              90               Berlin                   SK Berlin Neukoelln   \n",
       "3              70              Sachsen                            LK Meissen   \n",
       "4              47               Bayern                   LK Freyung-Grafenau   \n",
       "...           ...                  ...                                   ...   \n",
       "384902         70              Sachsen  LK Saechsische Schweiz-Osterzgebirge   \n",
       "384903         70               Bayern                          SK Nuernberg   \n",
       "384904         24              Sachsen                            SK Leipzig   \n",
       "384905         47               Bayern                    LK Muehldorf a.Inn   \n",
       "384906         90               Berlin           SK Berlin Treptow-Koepenick   \n",
       "\n",
       "       gender       date  recovered  cases  deaths  predictions_deaths  \n",
       "0           M 2021-01-20          1      4       0                   1  \n",
       "1           M 2021-01-20          1     20       0                   0  \n",
       "2           F 2020-12-17          1     35       0                   1  \n",
       "3           M 2020-12-07          1     24       0                   1  \n",
       "4           F 2020-12-18          1     13       0                   0  \n",
       "...       ...        ...        ...    ...     ...                 ...  \n",
       "384902      M 2020-11-20          1     19       0                   1  \n",
       "384903      M 2021-01-01          1     11       0                   1  \n",
       "384904      M 2020-12-14          1     37       0                   0  \n",
       "384905      M 2021-02-06          1      6       0                   0  \n",
       "384906      M 2021-01-20          1      3       0                   1  \n",
       "\n",
       "[384907 rows x 9 columns]"
      ]
     },
     "execution_count": 154,
     "metadata": {},
     "output_type": "execute_result"
    }
   ],
   "source": [
    "testdatadf"
   ]
  },
  {
   "cell_type": "code",
   "execution_count": 155,
   "metadata": {},
   "outputs": [
    {
     "data": {
      "text/html": [
       "<div>\n",
       "<style scoped>\n",
       "    .dataframe tbody tr th:only-of-type {\n",
       "        vertical-align: middle;\n",
       "    }\n",
       "\n",
       "    .dataframe tbody tr th {\n",
       "        vertical-align: top;\n",
       "    }\n",
       "\n",
       "    .dataframe thead th {\n",
       "        text-align: right;\n",
       "    }\n",
       "</style>\n",
       "<table border=\"1\" class=\"dataframe\">\n",
       "  <thead>\n",
       "    <tr style=\"text-align: right;\">\n",
       "      <th></th>\n",
       "      <th>age_group</th>\n",
       "      <th>state</th>\n",
       "      <th>county</th>\n",
       "      <th>gender</th>\n",
       "      <th>date</th>\n",
       "      <th>recovered</th>\n",
       "      <th>cases</th>\n",
       "      <th>deaths</th>\n",
       "      <th>predictions_deaths</th>\n",
       "    </tr>\n",
       "  </thead>\n",
       "  <tbody>\n",
       "    <tr>\n",
       "      <th>0</th>\n",
       "      <td>90</td>\n",
       "      <td>Nordrhein-Westfalen</td>\n",
       "      <td>LK Hochsauerlandkreis</td>\n",
       "      <td>M</td>\n",
       "      <td>2021-01-20</td>\n",
       "      <td>1</td>\n",
       "      <td>4</td>\n",
       "      <td>0</td>\n",
       "      <td>1</td>\n",
       "    </tr>\n",
       "  </tbody>\n",
       "</table>\n",
       "</div>"
      ],
      "text/plain": [
       "   age_group                state                 county gender       date  \\\n",
       "0         90  Nordrhein-Westfalen  LK Hochsauerlandkreis      M 2021-01-20   \n",
       "\n",
       "   recovered  cases  deaths  predictions_deaths  \n",
       "0          1      4       0                   1  "
      ]
     },
     "execution_count": 155,
     "metadata": {},
     "output_type": "execute_result"
    }
   ],
   "source": [
    "testdatadf.head(1)"
   ]
  },
  {
   "cell_type": "code",
   "execution_count": 156,
   "metadata": {},
   "outputs": [],
   "source": [
    "testdatadf.columns = ['age_group_test','state_test','county_test','gender_test','date_test','recovered_test','cases_org','deaths_test','predictions_deaths_test']"
   ]
  },
  {
   "cell_type": "code",
   "execution_count": 157,
   "metadata": {},
   "outputs": [
    {
     "data": {
      "text/html": [
       "<div>\n",
       "<style scoped>\n",
       "    .dataframe tbody tr th:only-of-type {\n",
       "        vertical-align: middle;\n",
       "    }\n",
       "\n",
       "    .dataframe tbody tr th {\n",
       "        vertical-align: top;\n",
       "    }\n",
       "\n",
       "    .dataframe thead th {\n",
       "        text-align: right;\n",
       "    }\n",
       "</style>\n",
       "<table border=\"1\" class=\"dataframe\">\n",
       "  <thead>\n",
       "    <tr style=\"text-align: right;\">\n",
       "      <th></th>\n",
       "      <th>age_group_test</th>\n",
       "      <th>state_test</th>\n",
       "      <th>county_test</th>\n",
       "      <th>gender_test</th>\n",
       "      <th>date_test</th>\n",
       "      <th>recovered_test</th>\n",
       "      <th>cases_org</th>\n",
       "      <th>deaths_test</th>\n",
       "      <th>predictions_deaths_test</th>\n",
       "    </tr>\n",
       "  </thead>\n",
       "  <tbody>\n",
       "    <tr>\n",
       "      <th>0</th>\n",
       "      <td>90</td>\n",
       "      <td>Nordrhein-Westfalen</td>\n",
       "      <td>LK Hochsauerlandkreis</td>\n",
       "      <td>M</td>\n",
       "      <td>2021-01-20</td>\n",
       "      <td>1</td>\n",
       "      <td>4</td>\n",
       "      <td>0</td>\n",
       "      <td>1</td>\n",
       "    </tr>\n",
       "    <tr>\n",
       "      <th>1</th>\n",
       "      <td>47</td>\n",
       "      <td>Nordrhein-Westfalen</td>\n",
       "      <td>SK Dortmund</td>\n",
       "      <td>M</td>\n",
       "      <td>2021-01-20</td>\n",
       "      <td>1</td>\n",
       "      <td>20</td>\n",
       "      <td>0</td>\n",
       "      <td>0</td>\n",
       "    </tr>\n",
       "    <tr>\n",
       "      <th>2</th>\n",
       "      <td>90</td>\n",
       "      <td>Berlin</td>\n",
       "      <td>SK Berlin Neukoelln</td>\n",
       "      <td>F</td>\n",
       "      <td>2020-12-17</td>\n",
       "      <td>1</td>\n",
       "      <td>35</td>\n",
       "      <td>0</td>\n",
       "      <td>1</td>\n",
       "    </tr>\n",
       "    <tr>\n",
       "      <th>3</th>\n",
       "      <td>70</td>\n",
       "      <td>Sachsen</td>\n",
       "      <td>LK Meissen</td>\n",
       "      <td>M</td>\n",
       "      <td>2020-12-07</td>\n",
       "      <td>1</td>\n",
       "      <td>24</td>\n",
       "      <td>0</td>\n",
       "      <td>1</td>\n",
       "    </tr>\n",
       "    <tr>\n",
       "      <th>4</th>\n",
       "      <td>47</td>\n",
       "      <td>Bayern</td>\n",
       "      <td>LK Freyung-Grafenau</td>\n",
       "      <td>F</td>\n",
       "      <td>2020-12-18</td>\n",
       "      <td>1</td>\n",
       "      <td>13</td>\n",
       "      <td>0</td>\n",
       "      <td>0</td>\n",
       "    </tr>\n",
       "    <tr>\n",
       "      <th>...</th>\n",
       "      <td>...</td>\n",
       "      <td>...</td>\n",
       "      <td>...</td>\n",
       "      <td>...</td>\n",
       "      <td>...</td>\n",
       "      <td>...</td>\n",
       "      <td>...</td>\n",
       "      <td>...</td>\n",
       "      <td>...</td>\n",
       "    </tr>\n",
       "    <tr>\n",
       "      <th>384902</th>\n",
       "      <td>70</td>\n",
       "      <td>Sachsen</td>\n",
       "      <td>LK Saechsische Schweiz-Osterzgebirge</td>\n",
       "      <td>M</td>\n",
       "      <td>2020-11-20</td>\n",
       "      <td>1</td>\n",
       "      <td>19</td>\n",
       "      <td>0</td>\n",
       "      <td>1</td>\n",
       "    </tr>\n",
       "    <tr>\n",
       "      <th>384903</th>\n",
       "      <td>70</td>\n",
       "      <td>Bayern</td>\n",
       "      <td>SK Nuernberg</td>\n",
       "      <td>M</td>\n",
       "      <td>2021-01-01</td>\n",
       "      <td>1</td>\n",
       "      <td>11</td>\n",
       "      <td>0</td>\n",
       "      <td>1</td>\n",
       "    </tr>\n",
       "    <tr>\n",
       "      <th>384904</th>\n",
       "      <td>24</td>\n",
       "      <td>Sachsen</td>\n",
       "      <td>SK Leipzig</td>\n",
       "      <td>M</td>\n",
       "      <td>2020-12-14</td>\n",
       "      <td>1</td>\n",
       "      <td>37</td>\n",
       "      <td>0</td>\n",
       "      <td>0</td>\n",
       "    </tr>\n",
       "    <tr>\n",
       "      <th>384905</th>\n",
       "      <td>47</td>\n",
       "      <td>Bayern</td>\n",
       "      <td>LK Muehldorf a.Inn</td>\n",
       "      <td>M</td>\n",
       "      <td>2021-02-06</td>\n",
       "      <td>1</td>\n",
       "      <td>6</td>\n",
       "      <td>0</td>\n",
       "      <td>0</td>\n",
       "    </tr>\n",
       "    <tr>\n",
       "      <th>384906</th>\n",
       "      <td>90</td>\n",
       "      <td>Berlin</td>\n",
       "      <td>SK Berlin Treptow-Koepenick</td>\n",
       "      <td>M</td>\n",
       "      <td>2021-01-20</td>\n",
       "      <td>1</td>\n",
       "      <td>3</td>\n",
       "      <td>0</td>\n",
       "      <td>1</td>\n",
       "    </tr>\n",
       "  </tbody>\n",
       "</table>\n",
       "<p>384907 rows × 9 columns</p>\n",
       "</div>"
      ],
      "text/plain": [
       "        age_group_test           state_test  \\\n",
       "0                   90  Nordrhein-Westfalen   \n",
       "1                   47  Nordrhein-Westfalen   \n",
       "2                   90               Berlin   \n",
       "3                   70              Sachsen   \n",
       "4                   47               Bayern   \n",
       "...                ...                  ...   \n",
       "384902              70              Sachsen   \n",
       "384903              70               Bayern   \n",
       "384904              24              Sachsen   \n",
       "384905              47               Bayern   \n",
       "384906              90               Berlin   \n",
       "\n",
       "                                 county_test gender_test  date_test  \\\n",
       "0                      LK Hochsauerlandkreis           M 2021-01-20   \n",
       "1                                SK Dortmund           M 2021-01-20   \n",
       "2                        SK Berlin Neukoelln           F 2020-12-17   \n",
       "3                                 LK Meissen           M 2020-12-07   \n",
       "4                        LK Freyung-Grafenau           F 2020-12-18   \n",
       "...                                      ...         ...        ...   \n",
       "384902  LK Saechsische Schweiz-Osterzgebirge           M 2020-11-20   \n",
       "384903                          SK Nuernberg           M 2021-01-01   \n",
       "384904                            SK Leipzig           M 2020-12-14   \n",
       "384905                    LK Muehldorf a.Inn           M 2021-02-06   \n",
       "384906           SK Berlin Treptow-Koepenick           M 2021-01-20   \n",
       "\n",
       "        recovered_test  cases_org  deaths_test  predictions_deaths_test  \n",
       "0                    1          4            0                        1  \n",
       "1                    1         20            0                        0  \n",
       "2                    1         35            0                        1  \n",
       "3                    1         24            0                        1  \n",
       "4                    1         13            0                        0  \n",
       "...                ...        ...          ...                      ...  \n",
       "384902               1         19            0                        1  \n",
       "384903               1         11            0                        1  \n",
       "384904               1         37            0                        0  \n",
       "384905               1          6            0                        0  \n",
       "384906               1          3            0                        1  \n",
       "\n",
       "[384907 rows x 9 columns]"
      ]
     },
     "execution_count": 157,
     "metadata": {},
     "output_type": "execute_result"
    }
   ],
   "source": [
    "testdatadf"
   ]
  },
  {
   "cell_type": "code",
   "execution_count": 159,
   "metadata": {},
   "outputs": [],
   "source": [
    "testdatadf.to_csv('datatestdeuschland_knn.csv',index=False)"
   ]
  },
  {
   "cell_type": "markdown",
   "metadata": {},
   "source": [
    "# Finish"
   ]
  }
 ],
 "metadata": {
  "kernelspec": {
   "display_name": "Python 3",
   "language": "python",
   "name": "python3"
  },
  "language_info": {
   "codemirror_mode": {
    "name": "ipython",
    "version": 3
   },
   "file_extension": ".py",
   "mimetype": "text/x-python",
   "name": "python",
   "nbconvert_exporter": "python",
   "pygments_lexer": "ipython3",
   "version": "3.7.7"
  }
 },
 "nbformat": 4,
 "nbformat_minor": 4
}
